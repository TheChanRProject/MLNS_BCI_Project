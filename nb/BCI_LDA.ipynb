{
 "cells": [
  {
   "cell_type": "code",
   "execution_count": 4,
   "metadata": {},
   "outputs": [],
   "source": [
    "import numpy as np\n",
    "import pandas as pd \n",
    "%matplotlib inline\n",
    "import matplotlib.pyplot as plt \n",
    "from sklearn.model_selection import train_test_split\n",
    "from sklearn.discriminant_analysis import LinearDiscriminantAnalysis\n",
    "from sklearn.metrics import accuracy_score \n",
    "from sklearn.preprocessing import scale \n"
   ]
  },
  {
   "cell_type": "code",
   "execution_count": 2,
   "metadata": {},
   "outputs": [
    {
     "name": "stdout",
     "output_type": "stream",
     "text": [
      "Requirement already satisfied: scikit-plot in /Users/rchatter/miniconda3/lib/python3.6/site-packages (0.3.7)\n",
      "Requirement already satisfied: matplotlib>=1.4.0 in /Users/rchatter/miniconda3/lib/python3.6/site-packages (from scikit-plot) (2.2.3)\n",
      "Requirement already satisfied: joblib>=0.10 in /Users/rchatter/miniconda3/lib/python3.6/site-packages (from scikit-plot) (0.13.2)\n",
      "Requirement already satisfied: scikit-learn>=0.18 in /Users/rchatter/miniconda3/lib/python3.6/site-packages (from scikit-plot) (0.20.2)\n",
      "Requirement already satisfied: scipy>=0.9 in /Users/rchatter/miniconda3/lib/python3.6/site-packages (from scikit-plot) (1.2.1)\n",
      "Requirement already satisfied: numpy>=1.7.1 in /Users/rchatter/miniconda3/lib/python3.6/site-packages (from matplotlib>=1.4.0->scikit-plot) (1.16.2)\n",
      "Requirement already satisfied: cycler>=0.10 in /Users/rchatter/miniconda3/lib/python3.6/site-packages (from matplotlib>=1.4.0->scikit-plot) (0.10.0)\n",
      "Requirement already satisfied: pyparsing!=2.0.4,!=2.1.2,!=2.1.6,>=2.0.1 in /Users/rchatter/miniconda3/lib/python3.6/site-packages (from matplotlib>=1.4.0->scikit-plot) (2.2.1)\n",
      "Requirement already satisfied: python-dateutil>=2.1 in /Users/rchatter/miniconda3/lib/python3.6/site-packages (from matplotlib>=1.4.0->scikit-plot) (2.7.3)\n",
      "Requirement already satisfied: pytz in /Users/rchatter/miniconda3/lib/python3.6/site-packages (from matplotlib>=1.4.0->scikit-plot) (2018.5)\n",
      "Requirement already satisfied: six>=1.10 in /Users/rchatter/miniconda3/lib/python3.6/site-packages (from matplotlib>=1.4.0->scikit-plot) (1.12.0)\n",
      "Requirement already satisfied: kiwisolver>=1.0.1 in /Users/rchatter/miniconda3/lib/python3.6/site-packages (from matplotlib>=1.4.0->scikit-plot) (1.0.1)\n",
      "Requirement already satisfied: setuptools in /Users/rchatter/miniconda3/lib/python3.6/site-packages (from kiwisolver>=1.0.1->matplotlib>=1.4.0->scikit-plot) (38.4.0)\n",
      "\u001b[33mYou are using pip version 19.0.1, however version 19.1 is available.\n",
      "You should consider upgrading via the 'pip install --upgrade pip' command.\u001b[0m\n"
     ]
    }
   ],
   "source": [
    "!pip install scikit-plot "
   ]
  },
  {
   "cell_type": "code",
   "execution_count": 6,
   "metadata": {},
   "outputs": [],
   "source": [
    "from scikitplot.metrics import plot_roc, plot_confusion_matrix \n",
    "from warnings import filterwarnings \n",
    "filterwarnings(\"ignore\") "
   ]
  },
  {
   "cell_type": "code",
   "execution_count": 8,
   "metadata": {},
   "outputs": [
    {
     "name": "stdout",
     "output_type": "stream",
     "text": [
      "(126082, 190)\n"
     ]
    }
   ],
   "source": [
    "# X File Read in Pandas \n",
    "NeurFeat = pd.read_csv(\"../data/Merged/merged_DevAttentionX.csv\") \n",
    "print(NeurFeat.shape)\n"
   ]
  },
  {
   "cell_type": "code",
   "execution_count": 9,
   "metadata": {},
   "outputs": [
    {
     "name": "stdout",
     "output_type": "stream",
     "text": [
      "(126082, 2)\n"
     ]
    }
   ],
   "source": [
    "# Y File Read in Pandas \n",
    "ClassValues = pd.read_csv(\"../data/Merged/merged_DevAttentionY.csv\") \n",
    "print(ClassValues.shape)"
   ]
  },
  {
   "cell_type": "code",
   "execution_count": null,
   "metadata": {},
   "outputs": [],
   "source": []
  }
 ],
 "metadata": {
  "kernelspec": {
   "display_name": "Python 3",
   "language": "python",
   "name": "python3"
  },
  "language_info": {
   "codemirror_mode": {
    "name": "ipython",
    "version": 3
   },
   "file_extension": ".py",
   "mimetype": "text/x-python",
   "name": "python",
   "nbconvert_exporter": "python",
   "pygments_lexer": "ipython3",
   "version": "3.6.8"
  },
  "nbTranslate": {
   "displayLangs": [
    "*"
   ],
   "hotkey": "alt-t",
   "langInMainMenu": true,
   "sourceLang": "en",
   "targetLang": "fr",
   "useGoogleTranslate": true
  }
 },
 "nbformat": 4,
 "nbformat_minor": 2
}
