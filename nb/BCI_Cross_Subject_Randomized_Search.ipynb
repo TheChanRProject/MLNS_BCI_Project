{
  "nbformat": 4,
  "nbformat_minor": 0,
  "metadata": {
    "colab": {
      "name": "BCI Cross Subject Randomized Search.ipynb",
      "version": "0.3.2",
      "provenance": [],
      "include_colab_link": true
    },
    "kernelspec": {
      "name": "python3",
      "display_name": "Python 3"
    }
  },
  "cells": [
    {
      "cell_type": "markdown",
      "metadata": {
        "id": "view-in-github",
        "colab_type": "text"
      },
      "source": [
        "<a href=\"https://colab.research.google.com/github/TheChanRProject/MLNS_BCI_Project/blob/master/nb/BCI_Cross_Subject_Randomized_Search.ipynb\" target=\"_parent\"><img src=\"https://colab.research.google.com/assets/colab-badge.svg\" alt=\"Open In Colab\"/></a>"
      ]
    },
    {
      "cell_type": "code",
      "metadata": {
        "id": "zloAGLiqz34I",
        "colab_type": "code",
        "colab": {}
      },
      "source": [
        "import numpy as np \n",
        "import pandas as pd \n",
        "import matplotlib.pyplot as plt \n",
        "from sklearn.linear_model import LogisticRegression \n",
        "from sklearn.model_selection import train_test_split \n",
        "from sklearn.metrics import accuracy_score \n",
        "from sklearn.preprocessing import scale\n",
        "\n"
      ],
      "execution_count": 0,
      "outputs": []
    },
    {
      "cell_type": "code",
      "metadata": {
        "id": "voxtMhIe1GOz",
        "colab_type": "code",
        "colab": {
          "base_uri": "https://localhost:8080/",
          "height": 207
        },
        "outputId": "9c2d3956-8e1d-44d5-91c4-f8e157dfa1ce"
      },
      "source": [
        "!pip install PyDrive"
      ],
      "execution_count": 2,
      "outputs": [
        {
          "output_type": "stream",
          "text": [
            "Requirement already satisfied: PyDrive in /usr/local/lib/python3.6/dist-packages (1.3.1)\n",
            "Requirement already satisfied: google-api-python-client>=1.2 in /usr/local/lib/python3.6/dist-packages (from PyDrive) (1.6.7)\n",
            "Requirement already satisfied: PyYAML>=3.0 in /usr/local/lib/python3.6/dist-packages (from PyDrive) (3.13)\n",
            "Requirement already satisfied: oauth2client>=4.0.0 in /usr/local/lib/python3.6/dist-packages (from PyDrive) (4.1.3)\n",
            "Requirement already satisfied: six<2dev,>=1.6.1 in /usr/local/lib/python3.6/dist-packages (from google-api-python-client>=1.2->PyDrive) (1.12.0)\n",
            "Requirement already satisfied: httplib2<1dev,>=0.9.2 in /usr/local/lib/python3.6/dist-packages (from google-api-python-client>=1.2->PyDrive) (0.11.3)\n",
            "Requirement already satisfied: uritemplate<4dev,>=3.0.0 in /usr/local/lib/python3.6/dist-packages (from google-api-python-client>=1.2->PyDrive) (3.0.0)\n",
            "Requirement already satisfied: rsa>=3.1.4 in /usr/local/lib/python3.6/dist-packages (from oauth2client>=4.0.0->PyDrive) (4.0)\n",
            "Requirement already satisfied: pyasn1>=0.1.7 in /usr/local/lib/python3.6/dist-packages (from oauth2client>=4.0.0->PyDrive) (0.4.5)\n",
            "Requirement already satisfied: pyasn1-modules>=0.0.5 in /usr/local/lib/python3.6/dist-packages (from oauth2client>=4.0.0->PyDrive) (0.2.5)\n"
          ],
          "name": "stdout"
        }
      ]
    },
    {
      "cell_type": "code",
      "metadata": {
        "id": "8sfq7fzM1cn_",
        "colab_type": "code",
        "colab": {}
      },
      "source": [
        "from pydrive.auth import GoogleAuth\n",
        "from pydrive.drive import GoogleDrive\n",
        "from google.colab import auth\n",
        "from oauth2client.client import GoogleCredentials"
      ],
      "execution_count": 0,
      "outputs": []
    },
    {
      "cell_type": "code",
      "metadata": {
        "id": "7v5Ocays1hKB",
        "colab_type": "code",
        "colab": {}
      },
      "source": [
        "auth.authenticate_user()\n",
        "gauth = GoogleAuth()\n",
        "gauth.credentials = GoogleCredentials.get_application_default()\n",
        "drive = GoogleDrive(gauth) "
      ],
      "execution_count": 0,
      "outputs": []
    },
    {
      "cell_type": "code",
      "metadata": {
        "id": "vu1VbV9f1jdb",
        "colab_type": "code",
        "colab": {}
      },
      "source": [
        "# Getting the csv files from Google Drive \n",
        "x_data = drive.CreateFile({'id':\"1tskTo_JKyAKMTV7IS-3WJkLWlN63GjFC\"})  "
      ],
      "execution_count": 0,
      "outputs": []
    },
    {
      "cell_type": "code",
      "metadata": {
        "id": "KYX5MPjp4RzL",
        "colab_type": "code",
        "colab": {}
      },
      "source": [
        "x_data.GetContentFile('merged_labeled_DevAttentionX_v2.csv') "
      ],
      "execution_count": 0,
      "outputs": []
    },
    {
      "cell_type": "code",
      "metadata": {
        "id": "nMTb-lu_4Tgo",
        "colab_type": "code",
        "colab": {}
      },
      "source": [
        "y_data = drive.CreateFile({'id':\"1O93VtD14rz9HMf_p5OPa45n5BQC0jJbM\"})"
      ],
      "execution_count": 0,
      "outputs": []
    },
    {
      "cell_type": "code",
      "metadata": {
        "id": "0CKlf68o56kE",
        "colab_type": "code",
        "colab": {}
      },
      "source": [
        "y_data.GetContentFile('merged_labeled_DevAttentionY_v2.csv') "
      ],
      "execution_count": 0,
      "outputs": []
    },
    {
      "cell_type": "code",
      "metadata": {
        "id": "huvttEli6AUc",
        "colab_type": "code",
        "colab": {
          "base_uri": "https://localhost:8080/",
          "height": 68
        },
        "outputId": "7914dd3c-1a22-4215-b063-467adf933eab"
      },
      "source": [
        "ls"
      ],
      "execution_count": 9,
      "outputs": [
        {
          "output_type": "stream",
          "text": [
            "adc.json                             \u001b[0m\u001b[01;34mMLNS_BCI_Project\u001b[0m/\n",
            "merged_labeled_DevAttentionX_v2.csv  \u001b[01;34msample_data\u001b[0m/\n",
            "merged_labeled_DevAttentionY_v2.csv\n"
          ],
          "name": "stdout"
        }
      ]
    },
    {
      "cell_type": "code",
      "metadata": {
        "id": "V7tZUE_l6B_8",
        "colab_type": "code",
        "colab": {
          "base_uri": "https://localhost:8080/",
          "height": 34
        },
        "outputId": "0f9aa60b-e85a-4a9c-8484-9d1e6ae49668"
      },
      "source": [
        "!git clone https://github.com/TheChanRProject/MLNS_BCI_Project.git"
      ],
      "execution_count": 10,
      "outputs": [
        {
          "output_type": "stream",
          "text": [
            "fatal: destination path 'MLNS_BCI_Project' already exists and is not an empty directory.\n"
          ],
          "name": "stdout"
        }
      ]
    },
    {
      "cell_type": "code",
      "metadata": {
        "id": "ZcO1kEje6Q6w",
        "colab_type": "code",
        "colab": {}
      },
      "source": [
        "mv *.csv MLNS_BCI_Project/src/cross-val"
      ],
      "execution_count": 0,
      "outputs": []
    },
    {
      "cell_type": "code",
      "metadata": {
        "id": "7i7PtVcB6YdY",
        "colab_type": "code",
        "colab": {
          "base_uri": "https://localhost:8080/",
          "height": 34
        },
        "outputId": "7f4be310-5aa8-44d7-8e11-431465f9a8e1"
      },
      "source": [
        "cd MLNS_BCI_Project/src/cross-val"
      ],
      "execution_count": 12,
      "outputs": [
        {
          "output_type": "stream",
          "text": [
            "/content/MLNS_BCI_Project/src/cross-val\n"
          ],
          "name": "stdout"
        }
      ]
    },
    {
      "cell_type": "code",
      "metadata": {
        "id": "C3xBqz6d6bEi",
        "colab_type": "code",
        "colab": {
          "base_uri": "https://localhost:8080/",
          "height": 85
        },
        "outputId": "543cb520-d3a3-4409-8f65-b673a6901a87"
      },
      "source": [
        "ls"
      ],
      "execution_count": 13,
      "outputs": [
        {
          "output_type": "stream",
          "text": [
            "gridSearch.py                        neural-network.py    roc.py\n",
            "logistic-regression.py               \u001b[0m\u001b[01;34m__pycache__\u001b[0m/         \u001b[01;34mtesting\u001b[0m/\n",
            "merged_labeled_DevAttentionX_v2.csv  random-forest.py     \u001b[01;34mtraining\u001b[0m/\n",
            "merged_labeled_DevAttentionY_v2.csv  randomizedSearch.py\n"
          ],
          "name": "stdout"
        }
      ]
    },
    {
      "cell_type": "code",
      "metadata": {
        "id": "VhiZe4A27HGD",
        "colab_type": "code",
        "colab": {
          "base_uri": "https://localhost:8080/",
          "height": 836
        },
        "outputId": "cedad13f-d564-4e9f-98f3-ff29152f71a4"
      },
      "source": [
        "!pip install jupyterthemes scikit-plot"
      ],
      "execution_count": 14,
      "outputs": [
        {
          "output_type": "stream",
          "text": [
            "Requirement already satisfied: jupyterthemes in /usr/local/lib/python3.6/dist-packages (0.20.0)\n",
            "Requirement already satisfied: scikit-plot in /usr/local/lib/python3.6/dist-packages (0.3.7)\n",
            "Requirement already satisfied: notebook>=5.6.0 in /usr/local/lib/python3.6/dist-packages (from jupyterthemes) (5.7.8)\n",
            "Requirement already satisfied: ipython>=5.4.1 in /usr/local/lib/python3.6/dist-packages (from jupyterthemes) (5.5.0)\n",
            "Requirement already satisfied: lesscpy>=0.11.2 in /usr/local/lib/python3.6/dist-packages (from jupyterthemes) (0.13.0)\n",
            "Requirement already satisfied: matplotlib>=1.4.3 in /usr/local/lib/python3.6/dist-packages (from jupyterthemes) (3.0.3)\n",
            "Requirement already satisfied: jupyter-core in /usr/local/lib/python3.6/dist-packages (from jupyterthemes) (4.4.0)\n",
            "Requirement already satisfied: scikit-learn>=0.18 in /usr/local/lib/python3.6/dist-packages (from scikit-plot) (0.20.3)\n",
            "Requirement already satisfied: scipy>=0.9 in /usr/local/lib/python3.6/dist-packages (from scikit-plot) (1.2.1)\n",
            "Requirement already satisfied: joblib>=0.10 in /usr/local/lib/python3.6/dist-packages (from scikit-plot) (0.12.5)\n",
            "Requirement already satisfied: pyzmq>=17 in /usr/local/lib/python3.6/dist-packages (from notebook>=5.6.0->jupyterthemes) (17.0.0)\n",
            "Requirement already satisfied: traitlets>=4.2.1 in /usr/local/lib/python3.6/dist-packages (from notebook>=5.6.0->jupyterthemes) (4.3.2)\n",
            "Requirement already satisfied: ipython-genutils in /usr/local/lib/python3.6/dist-packages (from notebook>=5.6.0->jupyterthemes) (0.2.0)\n",
            "Requirement already satisfied: tornado<7,>=4.1 in /usr/local/lib/python3.6/dist-packages (from notebook>=5.6.0->jupyterthemes) (4.5.3)\n",
            "Requirement already satisfied: Send2Trash in /usr/local/lib/python3.6/dist-packages (from notebook>=5.6.0->jupyterthemes) (1.5.0)\n",
            "Requirement already satisfied: terminado>=0.8.1 in /usr/local/lib/python3.6/dist-packages (from notebook>=5.6.0->jupyterthemes) (0.8.2)\n",
            "Requirement already satisfied: prometheus-client in /usr/local/lib/python3.6/dist-packages (from notebook>=5.6.0->jupyterthemes) (0.6.0)\n",
            "Requirement already satisfied: nbformat in /usr/local/lib/python3.6/dist-packages (from notebook>=5.6.0->jupyterthemes) (4.4.0)\n",
            "Requirement already satisfied: jupyter-client>=5.2.0 in /usr/local/lib/python3.6/dist-packages (from notebook>=5.6.0->jupyterthemes) (5.2.4)\n",
            "Requirement already satisfied: ipykernel in /usr/local/lib/python3.6/dist-packages (from notebook>=5.6.0->jupyterthemes) (4.6.1)\n",
            "Requirement already satisfied: jinja2 in /usr/local/lib/python3.6/dist-packages (from notebook>=5.6.0->jupyterthemes) (2.10.1)\n",
            "Requirement already satisfied: nbconvert in /usr/local/lib/python3.6/dist-packages (from notebook>=5.6.0->jupyterthemes) (5.5.0)\n",
            "Requirement already satisfied: pexpect; sys_platform != \"win32\" in /usr/local/lib/python3.6/dist-packages (from ipython>=5.4.1->jupyterthemes) (4.7.0)\n",
            "Requirement already satisfied: prompt-toolkit<2.0.0,>=1.0.4 in /usr/local/lib/python3.6/dist-packages (from ipython>=5.4.1->jupyterthemes) (1.0.16)\n",
            "Requirement already satisfied: simplegeneric>0.8 in /usr/local/lib/python3.6/dist-packages (from ipython>=5.4.1->jupyterthemes) (0.8.1)\n",
            "Requirement already satisfied: setuptools>=18.5 in /usr/local/lib/python3.6/dist-packages (from ipython>=5.4.1->jupyterthemes) (41.0.1)\n",
            "Requirement already satisfied: decorator in /usr/local/lib/python3.6/dist-packages (from ipython>=5.4.1->jupyterthemes) (4.4.0)\n",
            "Requirement already satisfied: pygments in /usr/local/lib/python3.6/dist-packages (from ipython>=5.4.1->jupyterthemes) (2.1.3)\n",
            "Requirement already satisfied: pickleshare in /usr/local/lib/python3.6/dist-packages (from ipython>=5.4.1->jupyterthemes) (0.7.5)\n",
            "Requirement already satisfied: ply in /usr/local/lib/python3.6/dist-packages (from lesscpy>=0.11.2->jupyterthemes) (3.11)\n",
            "Requirement already satisfied: six in /usr/local/lib/python3.6/dist-packages (from lesscpy>=0.11.2->jupyterthemes) (1.12.0)\n",
            "Requirement already satisfied: kiwisolver>=1.0.1 in /usr/local/lib/python3.6/dist-packages (from matplotlib>=1.4.3->jupyterthemes) (1.1.0)\n",
            "Requirement already satisfied: numpy>=1.10.0 in /usr/local/lib/python3.6/dist-packages (from matplotlib>=1.4.3->jupyterthemes) (1.16.3)\n",
            "Requirement already satisfied: cycler>=0.10 in /usr/local/lib/python3.6/dist-packages (from matplotlib>=1.4.3->jupyterthemes) (0.10.0)\n",
            "Requirement already satisfied: python-dateutil>=2.1 in /usr/local/lib/python3.6/dist-packages (from matplotlib>=1.4.3->jupyterthemes) (2.5.3)\n",
            "Requirement already satisfied: pyparsing!=2.0.4,!=2.1.2,!=2.1.6,>=2.0.1 in /usr/local/lib/python3.6/dist-packages (from matplotlib>=1.4.3->jupyterthemes) (2.4.0)\n",
            "Requirement already satisfied: ptyprocess; os_name != \"nt\" in /usr/local/lib/python3.6/dist-packages (from terminado>=0.8.1->notebook>=5.6.0->jupyterthemes) (0.6.0)\n",
            "Requirement already satisfied: jsonschema!=2.5.0,>=2.4 in /usr/local/lib/python3.6/dist-packages (from nbformat->notebook>=5.6.0->jupyterthemes) (2.6.0)\n",
            "Requirement already satisfied: MarkupSafe>=0.23 in /usr/local/lib/python3.6/dist-packages (from jinja2->notebook>=5.6.0->jupyterthemes) (1.1.1)\n",
            "Requirement already satisfied: entrypoints>=0.2.2 in /usr/local/lib/python3.6/dist-packages (from nbconvert->notebook>=5.6.0->jupyterthemes) (0.3)\n",
            "Requirement already satisfied: bleach in /usr/local/lib/python3.6/dist-packages (from nbconvert->notebook>=5.6.0->jupyterthemes) (3.1.0)\n",
            "Requirement already satisfied: defusedxml in /usr/local/lib/python3.6/dist-packages (from nbconvert->notebook>=5.6.0->jupyterthemes) (0.6.0)\n",
            "Requirement already satisfied: pandocfilters>=1.4.1 in /usr/local/lib/python3.6/dist-packages (from nbconvert->notebook>=5.6.0->jupyterthemes) (1.4.2)\n",
            "Requirement already satisfied: testpath in /usr/local/lib/python3.6/dist-packages (from nbconvert->notebook>=5.6.0->jupyterthemes) (0.4.2)\n",
            "Requirement already satisfied: mistune>=0.8.1 in /usr/local/lib/python3.6/dist-packages (from nbconvert->notebook>=5.6.0->jupyterthemes) (0.8.4)\n",
            "Requirement already satisfied: wcwidth in /usr/local/lib/python3.6/dist-packages (from prompt-toolkit<2.0.0,>=1.0.4->ipython>=5.4.1->jupyterthemes) (0.1.7)\n",
            "Requirement already satisfied: webencodings in /usr/local/lib/python3.6/dist-packages (from bleach->nbconvert->notebook>=5.6.0->jupyterthemes) (0.5.1)\n"
          ],
          "name": "stdout"
        }
      ]
    },
    {
      "cell_type": "code",
      "metadata": {
        "id": "Hp9mhi-H6btU",
        "colab_type": "code",
        "colab": {}
      },
      "source": [
        "from randomizedSearch import *\n"
      ],
      "execution_count": 0,
      "outputs": []
    },
    {
      "cell_type": "code",
      "metadata": {
        "id": "YZXl1ieO7FIw",
        "colab_type": "code",
        "colab": {
          "base_uri": "https://localhost:8080/",
          "height": 85
        },
        "outputId": "b3ffd1e6-205f-4620-a3d7-6aa019216215"
      },
      "source": [
        "ls"
      ],
      "execution_count": 16,
      "outputs": [
        {
          "output_type": "stream",
          "text": [
            "gridSearch.py                        neural-network.py    roc.py\n",
            "logistic-regression.py               \u001b[0m\u001b[01;34m__pycache__\u001b[0m/         \u001b[01;34mtesting\u001b[0m/\n",
            "merged_labeled_DevAttentionX_v2.csv  random-forest.py     \u001b[01;34mtraining\u001b[0m/\n",
            "merged_labeled_DevAttentionY_v2.csv  randomizedSearch.py\n"
          ],
          "name": "stdout"
        }
      ]
    },
    {
      "cell_type": "code",
      "metadata": {
        "id": "x71dGRCQq2aM",
        "colab_type": "code",
        "colab": {
          "base_uri": "https://localhost:8080/",
          "height": 34
        },
        "outputId": "0964ff95-cbc4-4fb0-f9ad-237c12789cc8"
      },
      "source": [
        "mkdir training && mv *.csv training"
      ],
      "execution_count": 17,
      "outputs": [
        {
          "output_type": "stream",
          "text": [
            "mkdir: cannot create directory ‘training’: File exists\n"
          ],
          "name": "stdout"
        }
      ]
    },
    {
      "cell_type": "code",
      "metadata": {
        "id": "RdljIZ1xrJpp",
        "colab_type": "code",
        "colab": {
          "base_uri": "https://localhost:8080/",
          "height": 85
        },
        "outputId": "f30be4fe-af30-445c-a324-eeb694621861"
      },
      "source": [
        "ls"
      ],
      "execution_count": 18,
      "outputs": [
        {
          "output_type": "stream",
          "text": [
            "gridSearch.py                        neural-network.py    roc.py\n",
            "logistic-regression.py               \u001b[0m\u001b[01;34m__pycache__\u001b[0m/         \u001b[01;34mtesting\u001b[0m/\n",
            "merged_labeled_DevAttentionX_v2.csv  random-forest.py     \u001b[01;34mtraining\u001b[0m/\n",
            "merged_labeled_DevAttentionY_v2.csv  randomizedSearch.py\n"
          ],
          "name": "stdout"
        }
      ]
    },
    {
      "cell_type": "code",
      "metadata": {
        "id": "TTYiaiVSrKTr",
        "colab_type": "code",
        "colab": {}
      },
      "source": [
        "p1_x = drive.CreateFile({'id':\"1RoH6sXOdhaFk-P2BRQKIY9yiLbTevReJ\"})\n",
        "p1_x.GetContentFile(\"VPaan_DevAttentionX.csv\") \n",
        "\n",
        "p1_y = drive.CreateFile({'id': \"1kfGHc9LHFHbVv2CMX_CqnXECiXshY9Eb\"})\n",
        "p1_y.GetContentFile(\"VPaan_DevAttentionY.csv\") \n",
        "\n",
        "p2_x = drive.CreateFile({'id': \"1fbaIh9xAcZMO35gVoym6iTnpIJvc1DcF\"})\n",
        "p2_x.GetContentFile(\"VPaap_DevAttentionX.csv\") \n",
        "\n",
        "p2_y = drive.CreateFile({'id': \"1c7P3RbnyWCkhRUu_bv_SjUiJPdwusXKd\"})\n",
        "p2_y.GetContentFile(\"VPaap_DevAttentionY.csv\") \n",
        "\n",
        "p3_x = drive.CreateFile({'id': \"1_fZHmXRRtZWZDY_L92GV-_gqWZjyaZyK\"})\n",
        "p3_x.GetContentFile(\"VPaas_DevAttentionX.csv\") \n",
        "\n",
        "p3_y = drive.CreateFile({'id': \"1R_5qOWIikz8VHN1TJIgl_Cv_Zeh8-Ava\"})\n",
        "p3_y.GetContentFile(\"VPaas_DevAttentionY.csv\") \n",
        "\n",
        "p4_x = drive.CreateFile({'id': \"1-7L3M541OdGGm1U2QjXXUV9ity1FiEZl\"})\n",
        "p4_x.GetContentFile(\"VPgcc_DevAttentionX.csv\")\n",
        "\n",
        "p4_y = drive.CreateFile({'id': \"1rsY0_5MtJ9W_9EfLCKhNjSPnvBoIHPC9\"})\n",
        "p4_y.GetContentFile(\"VPgcc_DevAttentionY.csv\") \n",
        "\n"
      ],
      "execution_count": 0,
      "outputs": []
    },
    {
      "cell_type": "code",
      "metadata": {
        "id": "xsWupfott0ah",
        "colab_type": "code",
        "colab": {
          "base_uri": "https://localhost:8080/",
          "height": 187
        },
        "outputId": "fa81133e-3794-4345-8b66-5b4cebb8f1af"
      },
      "source": [
        "ls"
      ],
      "execution_count": 20,
      "outputs": [
        {
          "output_type": "stream",
          "text": [
            "gridSearch.py                        \u001b[0m\u001b[01;34mtraining\u001b[0m/\n",
            "logistic-regression.py               VPaan_DevAttentionX.csv\n",
            "merged_labeled_DevAttentionX_v2.csv  VPaan_DevAttentionY.csv\n",
            "merged_labeled_DevAttentionY_v2.csv  VPaap_DevAttentionX.csv\n",
            "neural-network.py                    VPaap_DevAttentionY.csv\n",
            "\u001b[01;34m__pycache__\u001b[0m/                         VPaas_DevAttentionX.csv\n",
            "random-forest.py                     VPaas_DevAttentionY.csv\n",
            "randomizedSearch.py                  VPgcc_DevAttentionX.csv\n",
            "roc.py                               VPgcc_DevAttentionY.csv\n",
            "\u001b[01;34mtesting\u001b[0m/\n"
          ],
          "name": "stdout"
        }
      ]
    },
    {
      "cell_type": "code",
      "metadata": {
        "id": "SBYIxf0hu6Ie",
        "colab_type": "code",
        "colab": {
          "base_uri": "https://localhost:8080/",
          "height": 34
        },
        "outputId": "4aa5b941-e734-4c88-fd68-90e8e00cee82"
      },
      "source": [
        "mkdir testing && mv *.csv testing "
      ],
      "execution_count": 21,
      "outputs": [
        {
          "output_type": "stream",
          "text": [
            "mkdir: cannot create directory ‘testing’: File exists\n"
          ],
          "name": "stdout"
        }
      ]
    },
    {
      "cell_type": "code",
      "metadata": {
        "id": "K0Jw7raqwjut",
        "colab_type": "code",
        "colab": {
          "base_uri": "https://localhost:8080/",
          "height": 34
        },
        "outputId": "2c50fb07-5847-409f-ab2b-32a36c4ff550"
      },
      "source": [
        "ls training/"
      ],
      "execution_count": 22,
      "outputs": [
        {
          "output_type": "stream",
          "text": [
            "merged_labeled_DevAttentionX_v2.csv  merged_labeled_DevAttentionY_v2.csv\n"
          ],
          "name": "stdout"
        }
      ]
    },
    {
      "cell_type": "code",
      "metadata": {
        "id": "4RbwXQl_wkco",
        "colab_type": "code",
        "colab": {}
      },
      "source": [
        "neurTrain = pd.read_csv(\"training/merged_labeled_DevAttentionX_v2.csv\")"
      ],
      "execution_count": 0,
      "outputs": []
    },
    {
      "cell_type": "code",
      "metadata": {
        "id": "BQshbYV8yu4d",
        "colab_type": "code",
        "colab": {}
      },
      "source": [
        "classTrain = pd.read_csv(\"training/merged_labeled_DevAttentionY_v2.csv\")"
      ],
      "execution_count": 0,
      "outputs": []
    },
    {
      "cell_type": "code",
      "metadata": {
        "id": "r-T1uGFXy7rP",
        "colab_type": "code",
        "colab": {
          "base_uri": "https://localhost:8080/",
          "height": 270
        },
        "outputId": "3eb6cc61-2b5f-4edb-9617-924fa1d572f6"
      },
      "source": [
        "neurTrain.head()"
      ],
      "execution_count": 25,
      "outputs": [
        {
          "output_type": "execute_result",
          "data": {
            "text/html": [
              "<div>\n",
              "<style scoped>\n",
              "    .dataframe tbody tr th:only-of-type {\n",
              "        vertical-align: middle;\n",
              "    }\n",
              "\n",
              "    .dataframe tbody tr th {\n",
              "        vertical-align: top;\n",
              "    }\n",
              "\n",
              "    .dataframe thead th {\n",
              "        text-align: right;\n",
              "    }\n",
              "</style>\n",
              "<table border=\"1\" class=\"dataframe\">\n",
              "  <thead>\n",
              "    <tr style=\"text-align: right;\">\n",
              "      <th></th>\n",
              "      <th>Unnamed: 0</th>\n",
              "      <th>Feature_1</th>\n",
              "      <th>Feature_2</th>\n",
              "      <th>Feature_3</th>\n",
              "      <th>Feature_4</th>\n",
              "      <th>Feature_5</th>\n",
              "      <th>Feature_6</th>\n",
              "      <th>Feature_7</th>\n",
              "      <th>Feature_8</th>\n",
              "      <th>Feature_9</th>\n",
              "      <th>...</th>\n",
              "      <th>Feature_180</th>\n",
              "      <th>Feature_181</th>\n",
              "      <th>Feature_182</th>\n",
              "      <th>Feature_183</th>\n",
              "      <th>Feature_184</th>\n",
              "      <th>Feature_185</th>\n",
              "      <th>Feature_186</th>\n",
              "      <th>Feature_187</th>\n",
              "      <th>Feature_188</th>\n",
              "      <th>Feature_189</th>\n",
              "    </tr>\n",
              "  </thead>\n",
              "  <tbody>\n",
              "    <tr>\n",
              "      <th>0</th>\n",
              "      <td>0</td>\n",
              "      <td>12.6460</td>\n",
              "      <td>16.6650</td>\n",
              "      <td>8.9990</td>\n",
              "      <td>10.2400</td>\n",
              "      <td>7.05200</td>\n",
              "      <td>9.7096</td>\n",
              "      <td>9.81790</td>\n",
              "      <td>8.35180</td>\n",
              "      <td>11.1880</td>\n",
              "      <td>...</td>\n",
              "      <td>-2.3372</td>\n",
              "      <td>4.37750</td>\n",
              "      <td>-4.9031</td>\n",
              "      <td>8.630600</td>\n",
              "      <td>2.5697</td>\n",
              "      <td>5.8810</td>\n",
              "      <td>-4.7063</td>\n",
              "      <td>30.0180</td>\n",
              "      <td>-6.7101</td>\n",
              "      <td>29.6790</td>\n",
              "    </tr>\n",
              "    <tr>\n",
              "      <th>1</th>\n",
              "      <td>1</td>\n",
              "      <td>-38.0120</td>\n",
              "      <td>-2.5473</td>\n",
              "      <td>-76.6320</td>\n",
              "      <td>37.2820</td>\n",
              "      <td>-18.53400</td>\n",
              "      <td>-6.5741</td>\n",
              "      <td>-26.69100</td>\n",
              "      <td>-0.14158</td>\n",
              "      <td>-32.8510</td>\n",
              "      <td>...</td>\n",
              "      <td>-13.3880</td>\n",
              "      <td>-12.00500</td>\n",
              "      <td>-26.4700</td>\n",
              "      <td>2.447500</td>\n",
              "      <td>-10.6010</td>\n",
              "      <td>-9.6212</td>\n",
              "      <td>-29.0990</td>\n",
              "      <td>17.8140</td>\n",
              "      <td>-29.4790</td>\n",
              "      <td>15.9870</td>\n",
              "    </tr>\n",
              "    <tr>\n",
              "      <th>2</th>\n",
              "      <td>2</td>\n",
              "      <td>-24.8450</td>\n",
              "      <td>-46.2000</td>\n",
              "      <td>-6.2504</td>\n",
              "      <td>-64.6950</td>\n",
              "      <td>-27.44800</td>\n",
              "      <td>-35.3040</td>\n",
              "      <td>-21.68900</td>\n",
              "      <td>-41.46900</td>\n",
              "      <td>-12.9140</td>\n",
              "      <td>...</td>\n",
              "      <td>17.0310</td>\n",
              "      <td>21.82600</td>\n",
              "      <td>42.2850</td>\n",
              "      <td>18.088000</td>\n",
              "      <td>18.9910</td>\n",
              "      <td>25.6440</td>\n",
              "      <td>44.4430</td>\n",
              "      <td>21.9360</td>\n",
              "      <td>41.3870</td>\n",
              "      <td>21.3570</td>\n",
              "    </tr>\n",
              "    <tr>\n",
              "      <th>3</th>\n",
              "      <td>3</td>\n",
              "      <td>8.4071</td>\n",
              "      <td>-1.6020</td>\n",
              "      <td>7.1164</td>\n",
              "      <td>-9.8320</td>\n",
              "      <td>-0.60424</td>\n",
              "      <td>-6.7429</td>\n",
              "      <td>-0.52631</td>\n",
              "      <td>-9.86510</td>\n",
              "      <td>1.8740</td>\n",
              "      <td>...</td>\n",
              "      <td>-11.0650</td>\n",
              "      <td>-18.89000</td>\n",
              "      <td>-4.7904</td>\n",
              "      <td>-15.544000</td>\n",
              "      <td>-15.8260</td>\n",
              "      <td>-21.6960</td>\n",
              "      <td>-3.5423</td>\n",
              "      <td>-12.8740</td>\n",
              "      <td>-4.6155</td>\n",
              "      <td>-12.3200</td>\n",
              "    </tr>\n",
              "    <tr>\n",
              "      <th>4</th>\n",
              "      <td>4</td>\n",
              "      <td>-6.5846</td>\n",
              "      <td>-5.1551</td>\n",
              "      <td>-5.3284</td>\n",
              "      <td>1.6898</td>\n",
              "      <td>-11.04400</td>\n",
              "      <td>-6.2817</td>\n",
              "      <td>-8.60190</td>\n",
              "      <td>-6.60590</td>\n",
              "      <td>-2.7476</td>\n",
              "      <td>...</td>\n",
              "      <td>1.8006</td>\n",
              "      <td>-0.63786</td>\n",
              "      <td>-1.9626</td>\n",
              "      <td>-0.062583</td>\n",
              "      <td>1.4586</td>\n",
              "      <td>-5.9893</td>\n",
              "      <td>-1.2613</td>\n",
              "      <td>5.7502</td>\n",
              "      <td>-1.6784</td>\n",
              "      <td>6.2624</td>\n",
              "    </tr>\n",
              "  </tbody>\n",
              "</table>\n",
              "<p>5 rows × 190 columns</p>\n",
              "</div>"
            ],
            "text/plain": [
              "   Unnamed: 0  Feature_1  Feature_2  Feature_3  Feature_4  Feature_5  \\\n",
              "0           0    12.6460    16.6650     8.9990    10.2400    7.05200   \n",
              "1           1   -38.0120    -2.5473   -76.6320    37.2820  -18.53400   \n",
              "2           2   -24.8450   -46.2000    -6.2504   -64.6950  -27.44800   \n",
              "3           3     8.4071    -1.6020     7.1164    -9.8320   -0.60424   \n",
              "4           4    -6.5846    -5.1551    -5.3284     1.6898  -11.04400   \n",
              "\n",
              "   Feature_6  Feature_7  Feature_8  Feature_9  ...  Feature_180  Feature_181  \\\n",
              "0     9.7096    9.81790    8.35180    11.1880  ...      -2.3372      4.37750   \n",
              "1    -6.5741  -26.69100   -0.14158   -32.8510  ...     -13.3880    -12.00500   \n",
              "2   -35.3040  -21.68900  -41.46900   -12.9140  ...      17.0310     21.82600   \n",
              "3    -6.7429   -0.52631   -9.86510     1.8740  ...     -11.0650    -18.89000   \n",
              "4    -6.2817   -8.60190   -6.60590    -2.7476  ...       1.8006     -0.63786   \n",
              "\n",
              "   Feature_182  Feature_183  Feature_184  Feature_185  Feature_186  \\\n",
              "0      -4.9031     8.630600       2.5697       5.8810      -4.7063   \n",
              "1     -26.4700     2.447500     -10.6010      -9.6212     -29.0990   \n",
              "2      42.2850    18.088000      18.9910      25.6440      44.4430   \n",
              "3      -4.7904   -15.544000     -15.8260     -21.6960      -3.5423   \n",
              "4      -1.9626    -0.062583       1.4586      -5.9893      -1.2613   \n",
              "\n",
              "   Feature_187  Feature_188  Feature_189  \n",
              "0      30.0180      -6.7101      29.6790  \n",
              "1      17.8140     -29.4790      15.9870  \n",
              "2      21.9360      41.3870      21.3570  \n",
              "3     -12.8740      -4.6155     -12.3200  \n",
              "4       5.7502      -1.6784       6.2624  \n",
              "\n",
              "[5 rows x 190 columns]"
            ]
          },
          "metadata": {
            "tags": []
          },
          "execution_count": 25
        }
      ]
    },
    {
      "cell_type": "code",
      "metadata": {
        "id": "smMiLFmazASB",
        "colab_type": "code",
        "colab": {}
      },
      "source": [
        "neurTrain.drop(list(neurTrain.columns)[0], axis=1, inplace=True)\n",
        "classTrain.drop(list(classTrain.columns)[0], axis=1, inplace=True)"
      ],
      "execution_count": 0,
      "outputs": []
    },
    {
      "cell_type": "code",
      "metadata": {
        "id": "oHWN-g4VzO40",
        "colab_type": "code",
        "colab": {
          "base_uri": "https://localhost:8080/",
          "height": 1550
        },
        "outputId": "a28530f8-d2f5-4f2a-b4ce-55d1c9296e3c"
      },
      "source": [
        "# Cross Subject Randomized Search \n",
        "\n",
        "##  Random Forest 5-Fold Cross Validation with 2 Iterations \n",
        "zTrain = scale(neurTrain) \n",
        "rf_rs = RandomForest(zTrain, classTrain, cv=5, n=1)  \n",
        "print(rf_rs) \n",
        "\n",
        "\n",
        "\n",
        "\n",
        "\n"
      ],
      "execution_count": 27,
      "outputs": [
        {
          "output_type": "stream",
          "text": [
            "[Parallel(n_jobs=1)]: Using backend SequentialBackend with 1 concurrent workers.\n",
            "[Parallel(n_jobs=1)]: Done 800 out of 800 | elapsed:  8.6min finished\n",
            "[Parallel(n_jobs=1)]: Using backend SequentialBackend with 1 concurrent workers.\n",
            "[Parallel(n_jobs=1)]: Done 800 out of 800 | elapsed:    2.6s finished\n",
            "[Parallel(n_jobs=1)]: Using backend SequentialBackend with 1 concurrent workers.\n",
            "[Parallel(n_jobs=1)]: Done 800 out of 800 | elapsed:   12.1s finished\n",
            "[Parallel(n_jobs=1)]: Using backend SequentialBackend with 1 concurrent workers.\n",
            "[Parallel(n_jobs=1)]: Done 800 out of 800 | elapsed:  8.6min finished\n",
            "[Parallel(n_jobs=1)]: Using backend SequentialBackend with 1 concurrent workers.\n",
            "[Parallel(n_jobs=1)]: Done 800 out of 800 | elapsed:    2.4s finished\n",
            "[Parallel(n_jobs=1)]: Using backend SequentialBackend with 1 concurrent workers.\n",
            "[Parallel(n_jobs=1)]: Done 800 out of 800 | elapsed:   12.1s finished\n",
            "[Parallel(n_jobs=1)]: Using backend SequentialBackend with 1 concurrent workers.\n",
            "[Parallel(n_jobs=1)]: Done 800 out of 800 | elapsed:  8.4min finished\n",
            "[Parallel(n_jobs=1)]: Using backend SequentialBackend with 1 concurrent workers.\n",
            "[Parallel(n_jobs=1)]: Done 800 out of 800 | elapsed:    2.8s finished\n",
            "[Parallel(n_jobs=1)]: Using backend SequentialBackend with 1 concurrent workers.\n",
            "[Parallel(n_jobs=1)]: Done 800 out of 800 | elapsed:   12.2s finished\n",
            "[Parallel(n_jobs=1)]: Using backend SequentialBackend with 1 concurrent workers.\n",
            "[Parallel(n_jobs=1)]: Done 800 out of 800 | elapsed:  8.6min finished\n",
            "[Parallel(n_jobs=1)]: Using backend SequentialBackend with 1 concurrent workers.\n",
            "[Parallel(n_jobs=1)]: Done 800 out of 800 | elapsed:    2.6s finished\n",
            "[Parallel(n_jobs=1)]: Using backend SequentialBackend with 1 concurrent workers.\n",
            "[Parallel(n_jobs=1)]: Done 800 out of 800 | elapsed:   12.2s finished\n",
            "[Parallel(n_jobs=1)]: Using backend SequentialBackend with 1 concurrent workers.\n",
            "[Parallel(n_jobs=1)]: Done 800 out of 800 | elapsed:  8.5min finished\n",
            "[Parallel(n_jobs=1)]: Using backend SequentialBackend with 1 concurrent workers.\n",
            "[Parallel(n_jobs=1)]: Done 800 out of 800 | elapsed:    2.4s finished\n",
            "[Parallel(n_jobs=1)]: Using backend SequentialBackend with 1 concurrent workers.\n",
            "[Parallel(n_jobs=1)]: Done 800 out of 800 | elapsed:   12.1s finished\n",
            "[Parallel(n_jobs=1)]: Using backend SequentialBackend with 1 concurrent workers.\n",
            "[Parallel(n_jobs=1)]: Done 400 out of 400 | elapsed:   57.4s finished\n",
            "[Parallel(n_jobs=1)]: Using backend SequentialBackend with 1 concurrent workers.\n",
            "[Parallel(n_jobs=1)]: Done 400 out of 400 | elapsed:    0.6s finished\n",
            "[Parallel(n_jobs=1)]: Using backend SequentialBackend with 1 concurrent workers.\n",
            "[Parallel(n_jobs=1)]: Done 400 out of 400 | elapsed:    3.3s finished\n",
            "[Parallel(n_jobs=1)]: Using backend SequentialBackend with 1 concurrent workers.\n",
            "[Parallel(n_jobs=1)]: Done 400 out of 400 | elapsed:   58.3s finished\n",
            "[Parallel(n_jobs=1)]: Using backend SequentialBackend with 1 concurrent workers.\n",
            "[Parallel(n_jobs=1)]: Done 400 out of 400 | elapsed:    0.6s finished\n",
            "[Parallel(n_jobs=1)]: Using backend SequentialBackend with 1 concurrent workers.\n",
            "[Parallel(n_jobs=1)]: Done 400 out of 400 | elapsed:    3.2s finished\n",
            "[Parallel(n_jobs=1)]: Using backend SequentialBackend with 1 concurrent workers.\n",
            "[Parallel(n_jobs=1)]: Done 400 out of 400 | elapsed:   59.1s finished\n",
            "[Parallel(n_jobs=1)]: Using backend SequentialBackend with 1 concurrent workers.\n",
            "[Parallel(n_jobs=1)]: Done 400 out of 400 | elapsed:    0.6s finished\n",
            "[Parallel(n_jobs=1)]: Using backend SequentialBackend with 1 concurrent workers.\n",
            "[Parallel(n_jobs=1)]: Done 400 out of 400 | elapsed:    3.3s finished\n",
            "[Parallel(n_jobs=1)]: Using backend SequentialBackend with 1 concurrent workers.\n",
            "[Parallel(n_jobs=1)]: Done 400 out of 400 | elapsed:   58.2s finished\n",
            "[Parallel(n_jobs=1)]: Using backend SequentialBackend with 1 concurrent workers.\n",
            "[Parallel(n_jobs=1)]: Done 400 out of 400 | elapsed:    0.6s finished\n",
            "[Parallel(n_jobs=1)]: Using backend SequentialBackend with 1 concurrent workers.\n",
            "[Parallel(n_jobs=1)]: Done 400 out of 400 | elapsed:    3.4s finished\n",
            "[Parallel(n_jobs=1)]: Using backend SequentialBackend with 1 concurrent workers.\n",
            "[Parallel(n_jobs=1)]: Done 400 out of 400 | elapsed:   58.2s finished\n",
            "[Parallel(n_jobs=1)]: Using backend SequentialBackend with 1 concurrent workers.\n",
            "[Parallel(n_jobs=1)]: Done 400 out of 400 | elapsed:    0.6s finished\n",
            "[Parallel(n_jobs=1)]: Using backend SequentialBackend with 1 concurrent workers.\n",
            "[Parallel(n_jobs=1)]: Done 400 out of 400 | elapsed:    3.4s finished\n",
            "[Parallel(n_jobs=1)]: Using backend SequentialBackend with 1 concurrent workers.\n"
          ],
          "name": "stderr"
        },
        {
          "output_type": "stream",
          "text": [
            "{'mean_fit_time': array([512.86915727,  58.69089451]), 'std_fit_time': array([3.73221094, 0.54793856]), 'mean_score_time': array([2.56961722, 0.60232444]), 'std_score_time': array([0.14227883, 0.01658566]), 'param_n_estimators': masked_array(data=[800, 400],\n",
            "             mask=[False, False],\n",
            "       fill_value='?',\n",
            "            dtype=object), 'param_max_depth': masked_array(data=[None, 3],\n",
            "             mask=[False, False],\n",
            "       fill_value='?',\n",
            "            dtype=object), 'param_criterion': masked_array(data=['entropy', 'gini'],\n",
            "             mask=[False, False],\n",
            "       fill_value='?',\n",
            "            dtype=object), 'param_bootstrap': masked_array(data=[False, True],\n",
            "             mask=[False, False],\n",
            "       fill_value='?',\n",
            "            dtype=object), 'params': [{'n_estimators': 800, 'max_depth': None, 'criterion': 'entropy', 'bootstrap': False}, {'n_estimators': 400, 'max_depth': 3, 'criterion': 'gini', 'bootstrap': True}], 'split0_test_score': array([0.99338609, 0.70616167]), 'split1_test_score': array([0.99270774, 0.70763143]), 'split2_test_score': array([0.9926508 , 0.70439256]), 'split3_test_score': array([0.99338572, 0.70524054]), 'split4_test_score': array([0.9926508 , 0.70654079]), 'mean_test_score': array([0.99295623, 0.70599342]), 'std_test_score': array([0.00035144, 0.0011082 ]), 'rank_test_score': array([1, 2], dtype=int32), 'split0_train_score': array([0.99301836, 0.70623401]), 'split1_train_score': array([0.99318795, 0.70785929]), 'split2_train_score': array([0.99320218, 0.70401933]), 'split3_train_score': array([0.99301846, 0.70580005]), 'split4_train_score': array([0.99320218, 0.70613924]), 'mean_train_score': array([0.99312583, 0.70601038]), 'std_train_score': array([8.78607622e-05, 1.22422212e-03])}\n",
            "Best Cross-Validated Accuracy: 99.3%\n",
            "Best Model Parameters: {'n_estimators': 800, 'max_depth': None, 'criterion': 'entropy', 'bootstrap': False}\n",
            "RandomizedSearchCV(cv=5, error_score='raise-deprecating',\n",
            "          estimator=RandomForestClassifier(bootstrap=True, class_weight=None, criterion='gini',\n",
            "            max_depth=None, max_features='auto', max_leaf_nodes=None,\n",
            "            min_impurity_decrease=0.0, min_impurity_split=None,\n",
            "            min_samples_leaf=1, min_samples_split=2,\n",
            "            min_weight_fraction_leaf=0.0, n_estimators='warn', n_jobs=None,\n",
            "            oob_score=False, random_state=100, verbose=True,\n",
            "            warm_start=False),\n",
            "          fit_params=None, iid='warn', n_iter=2, n_jobs=None,\n",
            "          param_distributions={'n_estimators': [200, 400, 600, 800, 1000], 'max_depth': [3, None], 'bootstrap': [True, False], 'criterion': ['gini', 'entropy']},\n",
            "          pre_dispatch='2*n_jobs', random_state=None, refit=True,\n",
            "          return_train_score='warn', scoring=None, verbose=0)\n"
          ],
          "name": "stdout"
        },
        {
          "output_type": "stream",
          "text": [
            "[Parallel(n_jobs=1)]: Done 800 out of 800 | elapsed:  9.3min finished\n"
          ],
          "name": "stderr"
        }
      ]
    },
    {
      "cell_type": "code",
      "metadata": {
        "id": "fWdZgwjk0cWa",
        "colab_type": "code",
        "colab": {
          "base_uri": "https://localhost:8080/",
          "height": 34
        },
        "outputId": "3d917ef2-39d8-4c0e-ac73-a9f17570db0b"
      },
      "source": [
        "## Logistic Regression 5-Fold Cross Validation with 2 Iterations \n",
        "lr_rs = noSGDLogisticRegression(zTrain, classTrain, cv=5, n=1) \n",
        "print(lr_rs)\n"
      ],
      "execution_count": 0,
      "outputs": [
        {
          "output_type": "stream",
          "text": [
            "[LibLinear][LibLinear][LibLinear]"
          ],
          "name": "stdout"
        }
      ]
    },
    {
      "cell_type": "code",
      "metadata": {
        "id": "9BBcUp7-NEud",
        "colab_type": "code",
        "colab": {}
      },
      "source": [
        "## Neural Network 5-Fold Cross Validation with 2 Iterations \n",
        "nn_rs = NeuralNetwork(zTrain, classTrain, cv=5, n=1) \n",
        "print(nn_rs) "
      ],
      "execution_count": 0,
      "outputs": []
    },
    {
      "cell_type": "code",
      "metadata": {
        "id": "LQg9vnQJNK81",
        "colab_type": "code",
        "colab": {}
      },
      "source": [
        ""
      ],
      "execution_count": 0,
      "outputs": []
    }
  ]
}