{
  "nbformat": 4,
  "nbformat_minor": 0,
  "metadata": {
    "colab": {
      "name": "BCI Cross Subject Randomized Search.ipynb",
      "version": "0.3.2",
      "provenance": [],
      "include_colab_link": true
    },
    "kernelspec": {
      "name": "python3",
      "display_name": "Python 3"
    }
  },
  "cells": [
    {
      "cell_type": "markdown",
      "metadata": {
        "id": "view-in-github",
        "colab_type": "text"
      },
      "source": [
        "<a href=\"https://colab.research.google.com/github/TheChanRProject/MLNS_BCI_Project/blob/master/nb/BCI_Cross_Subject_Randomized_Search.ipynb\" target=\"_parent\"><img src=\"https://colab.research.google.com/assets/colab-badge.svg\" alt=\"Open In Colab\"/></a>"
      ]
    },
    {
      "cell_type": "code",
      "metadata": {
        "id": "zloAGLiqz34I",
        "colab_type": "code",
        "colab": {}
      },
      "source": [
        "import numpy as np \n",
        "import pandas as pd \n",
        "import matplotlib.pyplot as plt \n",
        "from sklearn.linear_model import LogisticRegression \n",
        "from sklearn.model_selection import train_test_split \n",
        "from sklearn.metrics import accuracy_score \n",
        "from sklearn.preprocessing import scale\n",
        "\n"
      ],
      "execution_count": 0,
      "outputs": []
    },
    {
      "cell_type": "code",
      "metadata": {
        "id": "voxtMhIe1GOz",
        "colab_type": "code",
        "colab": {
          "base_uri": "https://localhost:8080/",
          "height": 343
        },
        "outputId": "e441b8c3-86c2-447c-d126-49f1b09f18b9"
      },
      "source": [
        "!pip install PyDrive"
      ],
      "execution_count": 2,
      "outputs": [
        {
          "output_type": "stream",
          "text": [
            "Collecting PyDrive\n",
            "\u001b[?25l  Downloading https://files.pythonhosted.org/packages/52/e0/0e64788e5dd58ce2d6934549676243dc69d982f198524be9b99e9c2a4fd5/PyDrive-1.3.1.tar.gz (987kB)\n",
            "\u001b[K     |████████████████████████████████| 993kB 2.8MB/s \n",
            "\u001b[?25hRequirement already satisfied: google-api-python-client>=1.2 in /usr/local/lib/python3.6/dist-packages (from PyDrive) (1.6.7)\n",
            "Requirement already satisfied: oauth2client>=4.0.0 in /usr/local/lib/python3.6/dist-packages (from PyDrive) (4.1.3)\n",
            "Requirement already satisfied: PyYAML>=3.0 in /usr/local/lib/python3.6/dist-packages (from PyDrive) (3.13)\n",
            "Requirement already satisfied: uritemplate<4dev,>=3.0.0 in /usr/local/lib/python3.6/dist-packages (from google-api-python-client>=1.2->PyDrive) (3.0.0)\n",
            "Requirement already satisfied: six<2dev,>=1.6.1 in /usr/local/lib/python3.6/dist-packages (from google-api-python-client>=1.2->PyDrive) (1.12.0)\n",
            "Requirement already satisfied: httplib2<1dev,>=0.9.2 in /usr/local/lib/python3.6/dist-packages (from google-api-python-client>=1.2->PyDrive) (0.11.3)\n",
            "Requirement already satisfied: rsa>=3.1.4 in /usr/local/lib/python3.6/dist-packages (from oauth2client>=4.0.0->PyDrive) (4.0)\n",
            "Requirement already satisfied: pyasn1-modules>=0.0.5 in /usr/local/lib/python3.6/dist-packages (from oauth2client>=4.0.0->PyDrive) (0.2.5)\n",
            "Requirement already satisfied: pyasn1>=0.1.7 in /usr/local/lib/python3.6/dist-packages (from oauth2client>=4.0.0->PyDrive) (0.4.5)\n",
            "Building wheels for collected packages: PyDrive\n",
            "  Building wheel for PyDrive (setup.py) ... \u001b[?25l\u001b[?25hdone\n",
            "  Stored in directory: /root/.cache/pip/wheels/fa/d2/9a/d3b6b506c2da98289e5d417215ce34b696db856643bad779f4\n",
            "Successfully built PyDrive\n",
            "Installing collected packages: PyDrive\n",
            "Successfully installed PyDrive-1.3.1\n"
          ],
          "name": "stdout"
        }
      ]
    },
    {
      "cell_type": "code",
      "metadata": {
        "id": "8sfq7fzM1cn_",
        "colab_type": "code",
        "colab": {}
      },
      "source": [
        "from pydrive.auth import GoogleAuth\n",
        "from pydrive.drive import GoogleDrive\n",
        "from google.colab import auth\n",
        "from oauth2client.client import GoogleCredentials"
      ],
      "execution_count": 0,
      "outputs": []
    },
    {
      "cell_type": "code",
      "metadata": {
        "id": "7v5Ocays1hKB",
        "colab_type": "code",
        "colab": {}
      },
      "source": [
        "auth.authenticate_user()\n",
        "gauth = GoogleAuth()\n",
        "gauth.credentials = GoogleCredentials.get_application_default()\n",
        "drive = GoogleDrive(gauth) "
      ],
      "execution_count": 0,
      "outputs": []
    },
    {
      "cell_type": "code",
      "metadata": {
        "id": "vu1VbV9f1jdb",
        "colab_type": "code",
        "colab": {}
      },
      "source": [
        "# Getting the csv files from Google Drive \n",
        "x_data = drive.CreateFile({'id':\"1tskTo_JKyAKMTV7IS-3WJkLWlN63GjFC\"})  "
      ],
      "execution_count": 0,
      "outputs": []
    },
    {
      "cell_type": "code",
      "metadata": {
        "id": "KYX5MPjp4RzL",
        "colab_type": "code",
        "colab": {}
      },
      "source": [
        "x_data.GetContentFile('merged_labeled_DevAttentionX_v2.csv') "
      ],
      "execution_count": 0,
      "outputs": []
    },
    {
      "cell_type": "code",
      "metadata": {
        "id": "nMTb-lu_4Tgo",
        "colab_type": "code",
        "colab": {}
      },
      "source": [
        "y_data = drive.CreateFile({'id':\"1O93VtD14rz9HMf_p5OPa45n5BQC0jJbM\"})"
      ],
      "execution_count": 0,
      "outputs": []
    },
    {
      "cell_type": "code",
      "metadata": {
        "id": "0CKlf68o56kE",
        "colab_type": "code",
        "colab": {}
      },
      "source": [
        "y_data.GetContentFile('merged_labeled_DevAttentionY_v2.csv') "
      ],
      "execution_count": 0,
      "outputs": []
    },
    {
      "cell_type": "code",
      "metadata": {
        "id": "huvttEli6AUc",
        "colab_type": "code",
        "colab": {
          "base_uri": "https://localhost:8080/",
          "height": 51
        },
        "outputId": "05bd562f-65a5-4dbf-ba10-f7c4592914ce"
      },
      "source": [
        "ls"
      ],
      "execution_count": 15,
      "outputs": [
        {
          "output_type": "stream",
          "text": [
            "adc.json                             merged_labeled_DevAttentionY_v2.csv\n",
            "merged_labeled_DevAttentionX_v2.csv  \u001b[0m\u001b[01;34msample_data\u001b[0m/\n"
          ],
          "name": "stdout"
        }
      ]
    },
    {
      "cell_type": "code",
      "metadata": {
        "id": "V7tZUE_l6B_8",
        "colab_type": "code",
        "colab": {
          "base_uri": "https://localhost:8080/",
          "height": 136
        },
        "outputId": "20b08a29-6e6a-469e-a511-726436419c28"
      },
      "source": [
        "!git clone https://github.com/TheChanRProject/MLNS_BCI_Project.git"
      ],
      "execution_count": 16,
      "outputs": [
        {
          "output_type": "stream",
          "text": [
            "Cloning into 'MLNS_BCI_Project'...\n",
            "remote: Enumerating objects: 90, done.\u001b[K\n",
            "remote: Counting objects: 100% (90/90), done.\u001b[K\n",
            "remote: Compressing objects: 100% (60/60), done.\u001b[K\n",
            "remote: Total 1635 (delta 63), reused 50 (delta 28), pack-reused 1545\u001b[K\n",
            "Receiving objects: 100% (1635/1635), 36.68 MiB | 22.32 MiB/s, done.\n",
            "Resolving deltas: 100% (832/832), done.\n"
          ],
          "name": "stdout"
        }
      ]
    },
    {
      "cell_type": "code",
      "metadata": {
        "id": "ZcO1kEje6Q6w",
        "colab_type": "code",
        "colab": {}
      },
      "source": [
        "mv *.csv MLNS_BCI_Project/src/cross-val"
      ],
      "execution_count": 0,
      "outputs": []
    },
    {
      "cell_type": "code",
      "metadata": {
        "id": "7i7PtVcB6YdY",
        "colab_type": "code",
        "colab": {
          "base_uri": "https://localhost:8080/",
          "height": 34
        },
        "outputId": "5ffb2996-5a7b-4c24-ccd3-4cb69b221086"
      },
      "source": [
        "cd MLNS_BCI_Project/src/cross-val"
      ],
      "execution_count": 18,
      "outputs": [
        {
          "output_type": "stream",
          "text": [
            "/content/MLNS_BCI_Project/src/cross-val\n"
          ],
          "name": "stdout"
        }
      ]
    },
    {
      "cell_type": "code",
      "metadata": {
        "id": "C3xBqz6d6bEi",
        "colab_type": "code",
        "colab": {
          "base_uri": "https://localhost:8080/",
          "height": 85
        },
        "outputId": "366cbbe8-fac4-4a88-ebbe-368b68242a94"
      },
      "source": [
        "ls"
      ],
      "execution_count": 19,
      "outputs": [
        {
          "output_type": "stream",
          "text": [
            "gridSearch.py                        neural-network.py\n",
            "logistic-regression.py               random-forest.py\n",
            "merged_labeled_DevAttentionX_v2.csv  randomizedSearch.py\n",
            "merged_labeled_DevAttentionY_v2.csv  roc.py\n"
          ],
          "name": "stdout"
        }
      ]
    },
    {
      "cell_type": "code",
      "metadata": {
        "id": "VhiZe4A27HGD",
        "colab_type": "code",
        "colab": {
          "base_uri": "https://localhost:8080/",
          "height": 1091
        },
        "outputId": "cfdca873-c701-4ac6-c0cb-bff4dd84599a"
      },
      "source": [
        "!pip install jupyterthemes scikit-plot"
      ],
      "execution_count": 21,
      "outputs": [
        {
          "output_type": "stream",
          "text": [
            "Collecting jupyterthemes\n",
            "\u001b[?25l  Downloading https://files.pythonhosted.org/packages/8a/08/9dee6dfd7f2aad6c30282d55c8f495b4dc1e4747b4e2bdbeb80572ddf312/jupyterthemes-0.20.0-py2.py3-none-any.whl (7.0MB)\n",
            "\u001b[K     |████████████████████████████████| 7.0MB 2.7MB/s \n",
            "\u001b[?25hCollecting scikit-plot\n",
            "  Downloading https://files.pythonhosted.org/packages/7c/47/32520e259340c140a4ad27c1b97050dd3254fdc517b1d59974d47037510e/scikit_plot-0.3.7-py3-none-any.whl\n",
            "Collecting lesscpy>=0.11.2 (from jupyterthemes)\n",
            "\u001b[?25l  Downloading https://files.pythonhosted.org/packages/10/d0/fdd9874972e07ae8727a3d26b433891d8605b96999ea99bbf506e756a7b1/lesscpy-0.13.0-py2.py3-none-any.whl (48kB)\n",
            "\u001b[K     |████████████████████████████████| 51kB 19.9MB/s \n",
            "\u001b[?25hRequirement already satisfied: matplotlib>=1.4.3 in /usr/local/lib/python3.6/dist-packages (from jupyterthemes) (3.0.3)\n",
            "Requirement already satisfied: jupyter-core in /usr/local/lib/python3.6/dist-packages (from jupyterthemes) (4.4.0)\n",
            "Collecting notebook>=5.6.0 (from jupyterthemes)\n",
            "\u001b[?25l  Downloading https://files.pythonhosted.org/packages/f6/36/89ebfffc9dd8c8dbd81c1ffb53e3d4233ee666414c143959477cb07cc5f5/notebook-5.7.8-py2.py3-none-any.whl (9.0MB)\n",
            "\u001b[K     |████████████████████████████████| 9.0MB 35.1MB/s \n",
            "\u001b[?25hRequirement already satisfied: ipython>=5.4.1 in /usr/local/lib/python3.6/dist-packages (from jupyterthemes) (5.5.0)\n",
            "Requirement already satisfied: scipy>=0.9 in /usr/local/lib/python3.6/dist-packages (from scikit-plot) (1.2.1)\n",
            "Requirement already satisfied: scikit-learn>=0.18 in /usr/local/lib/python3.6/dist-packages (from scikit-plot) (0.20.3)\n",
            "Requirement already satisfied: joblib>=0.10 in /usr/local/lib/python3.6/dist-packages (from scikit-plot) (0.12.5)\n",
            "Requirement already satisfied: six in /usr/local/lib/python3.6/dist-packages (from lesscpy>=0.11.2->jupyterthemes) (1.12.0)\n",
            "Collecting ply (from lesscpy>=0.11.2->jupyterthemes)\n",
            "\u001b[?25l  Downloading https://files.pythonhosted.org/packages/a3/58/35da89ee790598a0700ea49b2a66594140f44dec458c07e8e3d4979137fc/ply-3.11-py2.py3-none-any.whl (49kB)\n",
            "\u001b[K     |████████████████████████████████| 51kB 19.9MB/s \n",
            "\u001b[?25hRequirement already satisfied: python-dateutil>=2.1 in /usr/local/lib/python3.6/dist-packages (from matplotlib>=1.4.3->jupyterthemes) (2.5.3)\n",
            "Requirement already satisfied: pyparsing!=2.0.4,!=2.1.2,!=2.1.6,>=2.0.1 in /usr/local/lib/python3.6/dist-packages (from matplotlib>=1.4.3->jupyterthemes) (2.4.0)\n",
            "Requirement already satisfied: cycler>=0.10 in /usr/local/lib/python3.6/dist-packages (from matplotlib>=1.4.3->jupyterthemes) (0.10.0)\n",
            "Requirement already satisfied: kiwisolver>=1.0.1 in /usr/local/lib/python3.6/dist-packages (from matplotlib>=1.4.3->jupyterthemes) (1.1.0)\n",
            "Requirement already satisfied: numpy>=1.10.0 in /usr/local/lib/python3.6/dist-packages (from matplotlib>=1.4.3->jupyterthemes) (1.16.3)\n",
            "Requirement already satisfied: traitlets in /usr/local/lib/python3.6/dist-packages (from jupyter-core->jupyterthemes) (4.3.2)\n",
            "Requirement already satisfied: jupyter-client>=5.2.0 in /usr/local/lib/python3.6/dist-packages (from notebook>=5.6.0->jupyterthemes) (5.2.4)\n",
            "Requirement already satisfied: Send2Trash in /usr/local/lib/python3.6/dist-packages (from notebook>=5.6.0->jupyterthemes) (1.5.0)\n",
            "Requirement already satisfied: nbconvert in /usr/local/lib/python3.6/dist-packages (from notebook>=5.6.0->jupyterthemes) (5.5.0)\n",
            "Requirement already satisfied: prometheus-client in /usr/local/lib/python3.6/dist-packages (from notebook>=5.6.0->jupyterthemes) (0.6.0)\n",
            "Requirement already satisfied: nbformat in /usr/local/lib/python3.6/dist-packages (from notebook>=5.6.0->jupyterthemes) (4.4.0)\n",
            "Requirement already satisfied: ipykernel in /usr/local/lib/python3.6/dist-packages (from notebook>=5.6.0->jupyterthemes) (4.6.1)\n",
            "Requirement already satisfied: terminado>=0.8.1 in /usr/local/lib/python3.6/dist-packages (from notebook>=5.6.0->jupyterthemes) (0.8.2)\n",
            "Requirement already satisfied: ipython-genutils in /usr/local/lib/python3.6/dist-packages (from notebook>=5.6.0->jupyterthemes) (0.2.0)\n",
            "Requirement already satisfied: tornado<7,>=4.1 in /usr/local/lib/python3.6/dist-packages (from notebook>=5.6.0->jupyterthemes) (4.5.3)\n",
            "Requirement already satisfied: jinja2 in /usr/local/lib/python3.6/dist-packages (from notebook>=5.6.0->jupyterthemes) (2.10.1)\n",
            "Requirement already satisfied: pyzmq>=17 in /usr/local/lib/python3.6/dist-packages (from notebook>=5.6.0->jupyterthemes) (17.0.0)\n",
            "Requirement already satisfied: pexpect; sys_platform != \"win32\" in /usr/local/lib/python3.6/dist-packages (from ipython>=5.4.1->jupyterthemes) (4.7.0)\n",
            "Requirement already satisfied: simplegeneric>0.8 in /usr/local/lib/python3.6/dist-packages (from ipython>=5.4.1->jupyterthemes) (0.8.1)\n",
            "Requirement already satisfied: pickleshare in /usr/local/lib/python3.6/dist-packages (from ipython>=5.4.1->jupyterthemes) (0.7.5)\n",
            "Requirement already satisfied: setuptools>=18.5 in /usr/local/lib/python3.6/dist-packages (from ipython>=5.4.1->jupyterthemes) (41.0.1)\n",
            "Requirement already satisfied: prompt-toolkit<2.0.0,>=1.0.4 in /usr/local/lib/python3.6/dist-packages (from ipython>=5.4.1->jupyterthemes) (1.0.16)\n",
            "Requirement already satisfied: pygments in /usr/local/lib/python3.6/dist-packages (from ipython>=5.4.1->jupyterthemes) (2.1.3)\n",
            "Requirement already satisfied: decorator in /usr/local/lib/python3.6/dist-packages (from ipython>=5.4.1->jupyterthemes) (4.4.0)\n",
            "Requirement already satisfied: mistune>=0.8.1 in /usr/local/lib/python3.6/dist-packages (from nbconvert->notebook>=5.6.0->jupyterthemes) (0.8.4)\n",
            "Requirement already satisfied: defusedxml in /usr/local/lib/python3.6/dist-packages (from nbconvert->notebook>=5.6.0->jupyterthemes) (0.6.0)\n",
            "Requirement already satisfied: pandocfilters>=1.4.1 in /usr/local/lib/python3.6/dist-packages (from nbconvert->notebook>=5.6.0->jupyterthemes) (1.4.2)\n",
            "Requirement already satisfied: entrypoints>=0.2.2 in /usr/local/lib/python3.6/dist-packages (from nbconvert->notebook>=5.6.0->jupyterthemes) (0.3)\n",
            "Requirement already satisfied: bleach in /usr/local/lib/python3.6/dist-packages (from nbconvert->notebook>=5.6.0->jupyterthemes) (3.1.0)\n",
            "Requirement already satisfied: testpath in /usr/local/lib/python3.6/dist-packages (from nbconvert->notebook>=5.6.0->jupyterthemes) (0.4.2)\n",
            "Requirement already satisfied: jsonschema!=2.5.0,>=2.4 in /usr/local/lib/python3.6/dist-packages (from nbformat->notebook>=5.6.0->jupyterthemes) (2.6.0)\n",
            "Requirement already satisfied: ptyprocess; os_name != \"nt\" in /usr/local/lib/python3.6/dist-packages (from terminado>=0.8.1->notebook>=5.6.0->jupyterthemes) (0.6.0)\n",
            "Requirement already satisfied: MarkupSafe>=0.23 in /usr/local/lib/python3.6/dist-packages (from jinja2->notebook>=5.6.0->jupyterthemes) (1.1.1)\n",
            "Requirement already satisfied: wcwidth in /usr/local/lib/python3.6/dist-packages (from prompt-toolkit<2.0.0,>=1.0.4->ipython>=5.4.1->jupyterthemes) (0.1.7)\n",
            "Requirement already satisfied: webencodings in /usr/local/lib/python3.6/dist-packages (from bleach->nbconvert->notebook>=5.6.0->jupyterthemes) (0.5.1)\n",
            "\u001b[31mERROR: google-colab 1.0.0 has requirement notebook~=5.2.0, but you'll have notebook 5.7.8 which is incompatible.\u001b[0m\n",
            "Installing collected packages: ply, lesscpy, notebook, jupyterthemes, scikit-plot\n",
            "  Found existing installation: notebook 5.2.2\n",
            "    Uninstalling notebook-5.2.2:\n",
            "      Successfully uninstalled notebook-5.2.2\n",
            "Successfully installed jupyterthemes-0.20.0 lesscpy-0.13.0 notebook-5.7.8 ply-3.11 scikit-plot-0.3.7\n"
          ],
          "name": "stdout"
        }
      ]
    },
    {
      "cell_type": "code",
      "metadata": {
        "id": "Hp9mhi-H6btU",
        "colab_type": "code",
        "colab": {}
      },
      "source": [
        "from randomizedSearch import *\n"
      ],
      "execution_count": 0,
      "outputs": []
    },
    {
      "cell_type": "code",
      "metadata": {
        "id": "YZXl1ieO7FIw",
        "colab_type": "code",
        "colab": {
          "base_uri": "https://localhost:8080/",
          "height": 102
        },
        "outputId": "ce85ff09-b61a-4ee5-ee37-2ffe110af3cc"
      },
      "source": [
        "ls"
      ],
      "execution_count": 24,
      "outputs": [
        {
          "output_type": "stream",
          "text": [
            "gridSearch.py                        \u001b[0m\u001b[01;34m__pycache__\u001b[0m/\n",
            "logistic-regression.py               random-forest.py\n",
            "merged_labeled_DevAttentionX_v2.csv  randomizedSearch.py\n",
            "merged_labeled_DevAttentionY_v2.csv  roc.py\n",
            "neural-network.py\n"
          ],
          "name": "stdout"
        }
      ]
    },
    {
      "cell_type": "code",
      "metadata": {
        "id": "x71dGRCQq2aM",
        "colab_type": "code",
        "colab": {}
      },
      "source": [
        "mkdir training && mv *.csv training"
      ],
      "execution_count": 0,
      "outputs": []
    },
    {
      "cell_type": "code",
      "metadata": {
        "id": "RdljIZ1xrJpp",
        "colab_type": "code",
        "colab": {
          "base_uri": "https://localhost:8080/",
          "height": 51
        },
        "outputId": "eeee004a-0ddf-47f1-f38f-7f77b651919c"
      },
      "source": [
        "ls"
      ],
      "execution_count": 26,
      "outputs": [
        {
          "output_type": "stream",
          "text": [
            "gridSearch.py           neural-network.py  random-forest.py     roc.py\n",
            "logistic-regression.py  \u001b[0m\u001b[01;34m__pycache__\u001b[0m/       randomizedSearch.py  \u001b[01;34mtraining\u001b[0m/\n"
          ],
          "name": "stdout"
        }
      ]
    },
    {
      "cell_type": "code",
      "metadata": {
        "id": "TTYiaiVSrKTr",
        "colab_type": "code",
        "colab": {}
      },
      "source": [
        "p1_x = drive.CreateFile({'id':\"1RoH6sXOdhaFk-P2BRQKIY9yiLbTevReJ\"})\n",
        "p1_x.GetContentFile(\"VPaan_DevAttentionX.csv\") \n",
        "\n",
        "p1_y = drive.CreateFile({'id': \"1kfGHc9LHFHbVv2CMX_CqnXECiXshY9Eb\"})\n",
        "p1_y.GetContentFile(\"VPaan_DevAttentionY.csv\") \n",
        "\n",
        "p2_x = drive.CreateFile({'id': \"1fbaIh9xAcZMO35gVoym6iTnpIJvc1DcF\"})\n",
        "p2_x.GetContentFile(\"VPaap_DevAttentionX.csv\") \n",
        "\n",
        "p2_y = drive.CreateFile({'id': \"1c7P3RbnyWCkhRUu_bv_SjUiJPdwusXKd\"})\n",
        "p2_y.GetContentFile(\"VPaap_DevAttentionY.csv\") \n",
        "\n",
        "p3_x = drive.CreateFile({'id': \"1_fZHmXRRtZWZDY_L92GV-_gqWZjyaZyK\"})\n",
        "p3_x.GetContentFile(\"VPaas_DevAttentionX.csv\") \n",
        "\n",
        "p3_y = drive.CreateFile({'id': \"1R_5qOWIikz8VHN1TJIgl_Cv_Zeh8-Ava\"})\n",
        "p3_y.GetContentFile(\"VPaas_DevAttentionY.csv\") \n",
        "\n",
        "p4_x = drive.CreateFile({'id': \"1-7L3M541OdGGm1U2QjXXUV9ity1FiEZl\"})\n",
        "p4_x.GetContentFile(\"VPgcc_DevAttentionX.csv\")\n",
        "\n",
        "p4_y = drive.CreateFile({'id': \"1rsY0_5MtJ9W_9EfLCKhNjSPnvBoIHPC9\"})\n",
        "p4_y.GetContentFile(\"VPgcc_DevAttentionY.csv\") \n",
        "\n"
      ],
      "execution_count": 0,
      "outputs": []
    },
    {
      "cell_type": "code",
      "metadata": {
        "id": "xsWupfott0ah",
        "colab_type": "code",
        "colab": {
          "base_uri": "https://localhost:8080/",
          "height": 119
        },
        "outputId": "ba12f17b-ef9a-49a5-c448-3247ce21cbaa"
      },
      "source": [
        "ls"
      ],
      "execution_count": 39,
      "outputs": [
        {
          "output_type": "stream",
          "text": [
            "gridSearch.py           roc.py                   VPaas_DevAttentionX.csv\n",
            "logistic-regression.py  \u001b[0m\u001b[01;34mtraining\u001b[0m/                VPaas_DevAttentionY.csv\n",
            "neural-network.py       VPaan_DevAttentionX.csv  VPgcc_DevAttentionX.csv\n",
            "\u001b[01;34m__pycache__\u001b[0m/            VPaan_DevAttentionY.csv  VPgcc_DevAttentionY.csv\n",
            "random-forest.py        VPaap_DevAttentionX.csv\n",
            "randomizedSearch.py     VPaap_DevAttentionY.csv\n"
          ],
          "name": "stdout"
        }
      ]
    },
    {
      "cell_type": "code",
      "metadata": {
        "id": "SBYIxf0hu6Ie",
        "colab_type": "code",
        "colab": {}
      },
      "source": [
        "mkdir testing && mv *.csv testing "
      ],
      "execution_count": 0,
      "outputs": []
    },
    {
      "cell_type": "code",
      "metadata": {
        "id": "K0Jw7raqwjut",
        "colab_type": "code",
        "colab": {
          "base_uri": "https://localhost:8080/",
          "height": 34
        },
        "outputId": "1f5713c1-e368-442c-d947-a9cf59ebce55"
      },
      "source": [
        "ls training/"
      ],
      "execution_count": 42,
      "outputs": [
        {
          "output_type": "stream",
          "text": [
            "merged_labeled_DevAttentionX_v2.csv  merged_labeled_DevAttentionY_v2.csv\n"
          ],
          "name": "stdout"
        }
      ]
    },
    {
      "cell_type": "code",
      "metadata": {
        "id": "4RbwXQl_wkco",
        "colab_type": "code",
        "colab": {}
      },
      "source": [
        "neurTrain = pd.read_csv(\"training/merged_labeled_DevAttentionX_v2.csv\")"
      ],
      "execution_count": 0,
      "outputs": []
    },
    {
      "cell_type": "code",
      "metadata": {
        "id": "BQshbYV8yu4d",
        "colab_type": "code",
        "colab": {}
      },
      "source": [
        "classTrain = pd.read_csv(\"training/merged_labeled_DevAttentionY_v2.csv\")"
      ],
      "execution_count": 0,
      "outputs": []
    },
    {
      "cell_type": "code",
      "metadata": {
        "id": "r-T1uGFXy7rP",
        "colab_type": "code",
        "colab": {
          "base_uri": "https://localhost:8080/",
          "height": 270
        },
        "outputId": "fd690447-758c-468e-ad3b-86c31841a7d8"
      },
      "source": [
        "neurTrain.head()"
      ],
      "execution_count": 46,
      "outputs": [
        {
          "output_type": "execute_result",
          "data": {
            "text/html": [
              "<div>\n",
              "<style scoped>\n",
              "    .dataframe tbody tr th:only-of-type {\n",
              "        vertical-align: middle;\n",
              "    }\n",
              "\n",
              "    .dataframe tbody tr th {\n",
              "        vertical-align: top;\n",
              "    }\n",
              "\n",
              "    .dataframe thead th {\n",
              "        text-align: right;\n",
              "    }\n",
              "</style>\n",
              "<table border=\"1\" class=\"dataframe\">\n",
              "  <thead>\n",
              "    <tr style=\"text-align: right;\">\n",
              "      <th></th>\n",
              "      <th>Unnamed: 0</th>\n",
              "      <th>Feature_1</th>\n",
              "      <th>Feature_2</th>\n",
              "      <th>Feature_3</th>\n",
              "      <th>Feature_4</th>\n",
              "      <th>Feature_5</th>\n",
              "      <th>Feature_6</th>\n",
              "      <th>Feature_7</th>\n",
              "      <th>Feature_8</th>\n",
              "      <th>Feature_9</th>\n",
              "      <th>...</th>\n",
              "      <th>Feature_180</th>\n",
              "      <th>Feature_181</th>\n",
              "      <th>Feature_182</th>\n",
              "      <th>Feature_183</th>\n",
              "      <th>Feature_184</th>\n",
              "      <th>Feature_185</th>\n",
              "      <th>Feature_186</th>\n",
              "      <th>Feature_187</th>\n",
              "      <th>Feature_188</th>\n",
              "      <th>Feature_189</th>\n",
              "    </tr>\n",
              "  </thead>\n",
              "  <tbody>\n",
              "    <tr>\n",
              "      <th>0</th>\n",
              "      <td>0</td>\n",
              "      <td>12.6460</td>\n",
              "      <td>16.6650</td>\n",
              "      <td>8.9990</td>\n",
              "      <td>10.2400</td>\n",
              "      <td>7.05200</td>\n",
              "      <td>9.7096</td>\n",
              "      <td>9.81790</td>\n",
              "      <td>8.35180</td>\n",
              "      <td>11.1880</td>\n",
              "      <td>...</td>\n",
              "      <td>-2.3372</td>\n",
              "      <td>4.37750</td>\n",
              "      <td>-4.9031</td>\n",
              "      <td>8.630600</td>\n",
              "      <td>2.5697</td>\n",
              "      <td>5.8810</td>\n",
              "      <td>-4.7063</td>\n",
              "      <td>30.0180</td>\n",
              "      <td>-6.7101</td>\n",
              "      <td>29.6790</td>\n",
              "    </tr>\n",
              "    <tr>\n",
              "      <th>1</th>\n",
              "      <td>1</td>\n",
              "      <td>-38.0120</td>\n",
              "      <td>-2.5473</td>\n",
              "      <td>-76.6320</td>\n",
              "      <td>37.2820</td>\n",
              "      <td>-18.53400</td>\n",
              "      <td>-6.5741</td>\n",
              "      <td>-26.69100</td>\n",
              "      <td>-0.14158</td>\n",
              "      <td>-32.8510</td>\n",
              "      <td>...</td>\n",
              "      <td>-13.3880</td>\n",
              "      <td>-12.00500</td>\n",
              "      <td>-26.4700</td>\n",
              "      <td>2.447500</td>\n",
              "      <td>-10.6010</td>\n",
              "      <td>-9.6212</td>\n",
              "      <td>-29.0990</td>\n",
              "      <td>17.8140</td>\n",
              "      <td>-29.4790</td>\n",
              "      <td>15.9870</td>\n",
              "    </tr>\n",
              "    <tr>\n",
              "      <th>2</th>\n",
              "      <td>2</td>\n",
              "      <td>-24.8450</td>\n",
              "      <td>-46.2000</td>\n",
              "      <td>-6.2504</td>\n",
              "      <td>-64.6950</td>\n",
              "      <td>-27.44800</td>\n",
              "      <td>-35.3040</td>\n",
              "      <td>-21.68900</td>\n",
              "      <td>-41.46900</td>\n",
              "      <td>-12.9140</td>\n",
              "      <td>...</td>\n",
              "      <td>17.0310</td>\n",
              "      <td>21.82600</td>\n",
              "      <td>42.2850</td>\n",
              "      <td>18.088000</td>\n",
              "      <td>18.9910</td>\n",
              "      <td>25.6440</td>\n",
              "      <td>44.4430</td>\n",
              "      <td>21.9360</td>\n",
              "      <td>41.3870</td>\n",
              "      <td>21.3570</td>\n",
              "    </tr>\n",
              "    <tr>\n",
              "      <th>3</th>\n",
              "      <td>3</td>\n",
              "      <td>8.4071</td>\n",
              "      <td>-1.6020</td>\n",
              "      <td>7.1164</td>\n",
              "      <td>-9.8320</td>\n",
              "      <td>-0.60424</td>\n",
              "      <td>-6.7429</td>\n",
              "      <td>-0.52631</td>\n",
              "      <td>-9.86510</td>\n",
              "      <td>1.8740</td>\n",
              "      <td>...</td>\n",
              "      <td>-11.0650</td>\n",
              "      <td>-18.89000</td>\n",
              "      <td>-4.7904</td>\n",
              "      <td>-15.544000</td>\n",
              "      <td>-15.8260</td>\n",
              "      <td>-21.6960</td>\n",
              "      <td>-3.5423</td>\n",
              "      <td>-12.8740</td>\n",
              "      <td>-4.6155</td>\n",
              "      <td>-12.3200</td>\n",
              "    </tr>\n",
              "    <tr>\n",
              "      <th>4</th>\n",
              "      <td>4</td>\n",
              "      <td>-6.5846</td>\n",
              "      <td>-5.1551</td>\n",
              "      <td>-5.3284</td>\n",
              "      <td>1.6898</td>\n",
              "      <td>-11.04400</td>\n",
              "      <td>-6.2817</td>\n",
              "      <td>-8.60190</td>\n",
              "      <td>-6.60590</td>\n",
              "      <td>-2.7476</td>\n",
              "      <td>...</td>\n",
              "      <td>1.8006</td>\n",
              "      <td>-0.63786</td>\n",
              "      <td>-1.9626</td>\n",
              "      <td>-0.062583</td>\n",
              "      <td>1.4586</td>\n",
              "      <td>-5.9893</td>\n",
              "      <td>-1.2613</td>\n",
              "      <td>5.7502</td>\n",
              "      <td>-1.6784</td>\n",
              "      <td>6.2624</td>\n",
              "    </tr>\n",
              "  </tbody>\n",
              "</table>\n",
              "<p>5 rows × 190 columns</p>\n",
              "</div>"
            ],
            "text/plain": [
              "   Unnamed: 0  Feature_1  Feature_2  Feature_3  Feature_4  Feature_5  \\\n",
              "0           0    12.6460    16.6650     8.9990    10.2400    7.05200   \n",
              "1           1   -38.0120    -2.5473   -76.6320    37.2820  -18.53400   \n",
              "2           2   -24.8450   -46.2000    -6.2504   -64.6950  -27.44800   \n",
              "3           3     8.4071    -1.6020     7.1164    -9.8320   -0.60424   \n",
              "4           4    -6.5846    -5.1551    -5.3284     1.6898  -11.04400   \n",
              "\n",
              "   Feature_6  Feature_7  Feature_8  Feature_9  ...  Feature_180  Feature_181  \\\n",
              "0     9.7096    9.81790    8.35180    11.1880  ...      -2.3372      4.37750   \n",
              "1    -6.5741  -26.69100   -0.14158   -32.8510  ...     -13.3880    -12.00500   \n",
              "2   -35.3040  -21.68900  -41.46900   -12.9140  ...      17.0310     21.82600   \n",
              "3    -6.7429   -0.52631   -9.86510     1.8740  ...     -11.0650    -18.89000   \n",
              "4    -6.2817   -8.60190   -6.60590    -2.7476  ...       1.8006     -0.63786   \n",
              "\n",
              "   Feature_182  Feature_183  Feature_184  Feature_185  Feature_186  \\\n",
              "0      -4.9031     8.630600       2.5697       5.8810      -4.7063   \n",
              "1     -26.4700     2.447500     -10.6010      -9.6212     -29.0990   \n",
              "2      42.2850    18.088000      18.9910      25.6440      44.4430   \n",
              "3      -4.7904   -15.544000     -15.8260     -21.6960      -3.5423   \n",
              "4      -1.9626    -0.062583       1.4586      -5.9893      -1.2613   \n",
              "\n",
              "   Feature_187  Feature_188  Feature_189  \n",
              "0      30.0180      -6.7101      29.6790  \n",
              "1      17.8140     -29.4790      15.9870  \n",
              "2      21.9360      41.3870      21.3570  \n",
              "3     -12.8740      -4.6155     -12.3200  \n",
              "4       5.7502      -1.6784       6.2624  \n",
              "\n",
              "[5 rows x 190 columns]"
            ]
          },
          "metadata": {
            "tags": []
          },
          "execution_count": 46
        }
      ]
    },
    {
      "cell_type": "code",
      "metadata": {
        "id": "smMiLFmazASB",
        "colab_type": "code",
        "colab": {}
      },
      "source": [
        "neurTrain.drop(list(neurTrain.columns)[0], axis=1, inplace=True)\n",
        "classTrain.drop(list(classTrain.columns)[0], axis=1, inplace=True)"
      ],
      "execution_count": 0,
      "outputs": []
    },
    {
      "cell_type": "code",
      "metadata": {
        "id": "oHWN-g4VzO40",
        "colab_type": "code",
        "colab": {
          "base_uri": "https://localhost:8080/",
          "height": 340
        },
        "outputId": "3d6ccc4c-f36a-42dc-fffc-ddc95dec4193"
      },
      "source": [
        "# Cross Subject Randomized Search \n",
        "\n",
        "##  Random Forest 5-Fold Cross Validation with 2 Iterations \n",
        "zTrain = scale(neurTrain) \n",
        "rf_rs = RandomForest(zTrain, classTrain, cv=5, n=2)  \n",
        "print(rf_rs) \n",
        "\n",
        "## Logistic Regression 5-Fold Cross Validation with 2 Iterations \n",
        "lr_rs = noSGDLogisticRegression(zTrain, classTrain, cv=5, n=2) \n",
        "print(lr_rs)\n",
        "\n",
        "## Neural Network 5-Fold Cross Validation with 2 Iterations \n",
        "nn_rs = NeuralNetwork(zTrain, classTrain, cv=5, n=2) \n",
        "print(nn_rs) \n",
        "\n",
        "\n"
      ],
      "execution_count": 0,
      "outputs": [
        {
          "output_type": "stream",
          "text": [
            "[Parallel(n_jobs=1)]: Using backend SequentialBackend with 1 concurrent workers.\n",
            "[Parallel(n_jobs=1)]: Done 1000 out of 1000 | elapsed:  2.6min finished\n",
            "[Parallel(n_jobs=1)]: Using backend SequentialBackend with 1 concurrent workers.\n",
            "[Parallel(n_jobs=1)]: Done 1000 out of 1000 | elapsed:    1.7s finished\n",
            "[Parallel(n_jobs=1)]: Using backend SequentialBackend with 1 concurrent workers.\n",
            "[Parallel(n_jobs=1)]: Done 1000 out of 1000 | elapsed:    9.4s finished\n",
            "[Parallel(n_jobs=1)]: Using backend SequentialBackend with 1 concurrent workers.\n",
            "[Parallel(n_jobs=1)]: Done 1000 out of 1000 | elapsed:  2.5min finished\n",
            "[Parallel(n_jobs=1)]: Using backend SequentialBackend with 1 concurrent workers.\n",
            "[Parallel(n_jobs=1)]: Done 1000 out of 1000 | elapsed:    1.5s finished\n",
            "[Parallel(n_jobs=1)]: Using backend SequentialBackend with 1 concurrent workers.\n",
            "[Parallel(n_jobs=1)]: Done 1000 out of 1000 | elapsed:    9.0s finished\n",
            "[Parallel(n_jobs=1)]: Using backend SequentialBackend with 1 concurrent workers.\n",
            "[Parallel(n_jobs=1)]: Done 1000 out of 1000 | elapsed:  2.5min finished\n",
            "[Parallel(n_jobs=1)]: Using backend SequentialBackend with 1 concurrent workers.\n",
            "[Parallel(n_jobs=1)]: Done 1000 out of 1000 | elapsed:    1.4s finished\n",
            "[Parallel(n_jobs=1)]: Using backend SequentialBackend with 1 concurrent workers.\n",
            "[Parallel(n_jobs=1)]: Done 1000 out of 1000 | elapsed:    8.9s finished\n",
            "[Parallel(n_jobs=1)]: Using backend SequentialBackend with 1 concurrent workers.\n"
          ],
          "name": "stderr"
        }
      ]
    },
    {
      "cell_type": "code",
      "metadata": {
        "id": "fWdZgwjk0cWa",
        "colab_type": "code",
        "colab": {}
      },
      "source": [
        ""
      ],
      "execution_count": 0,
      "outputs": []
    }
  ]
}