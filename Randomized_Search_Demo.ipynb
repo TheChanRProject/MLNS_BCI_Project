{
  "nbformat": 4,
  "nbformat_minor": 0,
  "metadata": {
    "colab": {
      "name": "Randomized Search Demo.ipynb",
      "version": "0.3.2",
      "provenance": [],
      "include_colab_link": true
    },
    "kernelspec": {
      "name": "python3",
      "display_name": "Python 3"
    }
  },
  "cells": [
    {
      "cell_type": "markdown",
      "metadata": {
        "id": "view-in-github",
        "colab_type": "text"
      },
      "source": [
        "<a href=\"https://colab.research.google.com/github/TheChanRProject/MLNS_BCI_Project/blob/master/Randomized_Search_Demo.ipynb\" target=\"_parent\"><img src=\"https://colab.research.google.com/assets/colab-badge.svg\" alt=\"Open In Colab\"/></a>"
      ]
    },
    {
      "metadata": {
        "id": "Mcf3D97jeyvA",
        "colab_type": "code",
        "colab": {
          "base_uri": "https://localhost:8080/",
          "height": 34
        },
        "outputId": "391f4220-efc1-41f4-8c48-faccbfdde333"
      },
      "cell_type": "code",
      "source": [
        "ls"
      ],
      "execution_count": 1,
      "outputs": [
        {
          "output_type": "stream",
          "text": [
            "adc.json  \u001b[0m\u001b[01;34mMLNS_BCI_Project\u001b[0m/  \u001b[01;34msample_data\u001b[0m/\n"
          ],
          "name": "stdout"
        }
      ]
    },
    {
      "metadata": {
        "id": "1SB3DC2WjDFn",
        "colab_type": "code",
        "colab": {
          "base_uri": "https://localhost:8080/",
          "height": 34
        },
        "outputId": "04ef4009-0d0e-4561-9175-de7a9d177ace"
      },
      "cell_type": "code",
      "source": [
        "!git clone https://github.com/TheChanRProject/MLNS_BCI_Project"
      ],
      "execution_count": 2,
      "outputs": [
        {
          "output_type": "stream",
          "text": [
            "fatal: destination path 'MLNS_BCI_Project' already exists and is not an empty directory.\n"
          ],
          "name": "stdout"
        }
      ]
    },
    {
      "metadata": {
        "id": "uRrMOvVzmuRl",
        "colab_type": "code",
        "colab": {
          "base_uri": "https://localhost:8080/",
          "height": 207
        },
        "outputId": "29d53d1d-eb54-4532-eb1c-7de5c9f22f57"
      },
      "cell_type": "code",
      "source": [
        "!pip install PyDrive"
      ],
      "execution_count": 3,
      "outputs": [
        {
          "output_type": "stream",
          "text": [
            "Requirement already satisfied: PyDrive in /usr/local/lib/python3.6/dist-packages (1.3.1)\n",
            "Requirement already satisfied: google-api-python-client>=1.2 in /usr/local/lib/python3.6/dist-packages (from PyDrive) (1.6.7)\n",
            "Requirement already satisfied: PyYAML>=3.0 in /usr/local/lib/python3.6/dist-packages (from PyDrive) (3.13)\n",
            "Requirement already satisfied: oauth2client>=4.0.0 in /usr/local/lib/python3.6/dist-packages (from PyDrive) (4.1.3)\n",
            "Requirement already satisfied: uritemplate<4dev,>=3.0.0 in /usr/local/lib/python3.6/dist-packages (from google-api-python-client>=1.2->PyDrive) (3.0.0)\n",
            "Requirement already satisfied: six<2dev,>=1.6.1 in /usr/local/lib/python3.6/dist-packages (from google-api-python-client>=1.2->PyDrive) (1.12.0)\n",
            "Requirement already satisfied: httplib2<1dev,>=0.9.2 in /usr/local/lib/python3.6/dist-packages (from google-api-python-client>=1.2->PyDrive) (0.11.3)\n",
            "Requirement already satisfied: pyasn1-modules>=0.0.5 in /usr/local/lib/python3.6/dist-packages (from oauth2client>=4.0.0->PyDrive) (0.2.5)\n",
            "Requirement already satisfied: pyasn1>=0.1.7 in /usr/local/lib/python3.6/dist-packages (from oauth2client>=4.0.0->PyDrive) (0.4.5)\n",
            "Requirement already satisfied: rsa>=3.1.4 in /usr/local/lib/python3.6/dist-packages (from oauth2client>=4.0.0->PyDrive) (4.0)\n"
          ],
          "name": "stdout"
        }
      ]
    },
    {
      "metadata": {
        "id": "FneK-8qWmxZc",
        "colab_type": "code",
        "colab": {}
      },
      "cell_type": "code",
      "source": [
        "from pydrive.auth import GoogleAuth\n",
        "from pydrive.drive import GoogleDrive\n",
        "from google.colab import auth\n",
        "from oauth2client.client import GoogleCredentials\n"
      ],
      "execution_count": 0,
      "outputs": []
    },
    {
      "metadata": {
        "id": "FA6VCqMNm-e9",
        "colab_type": "code",
        "colab": {}
      },
      "cell_type": "code",
      "source": [
        "auth.authenticate_user()\n",
        "gauth = GoogleAuth()\n",
        "gauth.credentials = GoogleCredentials.get_application_default()\n",
        "drive = GoogleDrive(gauth)\n"
      ],
      "execution_count": 0,
      "outputs": []
    },
    {
      "metadata": {
        "id": "Rywhpfz6oUcD",
        "colab_type": "code",
        "colab": {}
      },
      "cell_type": "code",
      "source": [
        "x_data = drive.CreateFile({'id':\"1-s6kpsj5Gvc86FtIrfk_AhlRvVZRi8Mj\"}) \n",
        "y_data = drive.CreateFile({'id': \"1tHrpcAJjUuerjXrDJ1RGNRCmffPtkW33\"})\n",
        "x_data.GetContentFile(\"merged_labeled_DevAttentionX.csv\")\n",
        "y_data.GetContentFile(\"merged_labeled_DevAttentionY.csv\")"
      ],
      "execution_count": 0,
      "outputs": []
    },
    {
      "metadata": {
        "id": "v8UBH-XUp6e3",
        "colab_type": "code",
        "colab": {
          "base_uri": "https://localhost:8080/",
          "height": 34
        },
        "outputId": "9e70508c-71fe-4c93-fd6e-efe4b61ad397"
      },
      "cell_type": "code",
      "source": [
        "cd MLNS_BCI_Project/src/cross-val"
      ],
      "execution_count": 7,
      "outputs": [
        {
          "output_type": "stream",
          "text": [
            "/content/MLNS_BCI_Project/src/cross-val\n"
          ],
          "name": "stdout"
        }
      ]
    },
    {
      "metadata": {
        "id": "istsu9UWp9I_",
        "colab_type": "code",
        "colab": {}
      },
      "cell_type": "code",
      "source": [
        "import numpy as np\n",
        "import pandas as pd \n",
        "import matplotlib.pyplot as plt \n",
        "from randomizedSearch import noSGDLogisticRegression \n",
        "from sklearn.model_selection import train_test_split \n",
        "from sklearn.preprocessing import scale \n",
        "\n",
        "\n",
        "# reading csv files \n",
        "\n",
        "\n",
        "neuralFeatures = pd.read_csv(\"merged_labeled_DevAttentionX.csv\") \n",
        "classValues = pd.read_csv(\"merged_labeled_DevAttentionY.csv\")  "
      ],
      "execution_count": 0,
      "outputs": []
    },
    {
      "metadata": {
        "id": "brThD79ZtLH1",
        "colab_type": "code",
        "colab": {
          "base_uri": "https://localhost:8080/",
          "height": 836
        },
        "outputId": "4037c1e2-8e10-42dd-cb00-e7df5bb113d3"
      },
      "cell_type": "code",
      "source": [
        "!pip install scikit-plot jupyterthemes "
      ],
      "execution_count": 9,
      "outputs": [
        {
          "output_type": "stream",
          "text": [
            "Requirement already satisfied: scikit-plot in /usr/local/lib/python3.6/dist-packages (0.3.7)\n",
            "Requirement already satisfied: jupyterthemes in /usr/local/lib/python3.6/dist-packages (0.20.0)\n",
            "Requirement already satisfied: scipy>=0.9 in /usr/local/lib/python3.6/dist-packages (from scikit-plot) (1.2.1)\n",
            "Requirement already satisfied: joblib>=0.10 in /usr/local/lib/python3.6/dist-packages (from scikit-plot) (0.12.5)\n",
            "Requirement already satisfied: matplotlib>=1.4.0 in /usr/local/lib/python3.6/dist-packages (from scikit-plot) (3.0.3)\n",
            "Requirement already satisfied: scikit-learn>=0.18 in /usr/local/lib/python3.6/dist-packages (from scikit-plot) (0.20.3)\n",
            "Requirement already satisfied: ipython>=5.4.1 in /usr/local/lib/python3.6/dist-packages (from jupyterthemes) (5.5.0)\n",
            "Requirement already satisfied: jupyter-core in /usr/local/lib/python3.6/dist-packages (from jupyterthemes) (4.4.0)\n",
            "Requirement already satisfied: notebook>=5.6.0 in /usr/local/lib/python3.6/dist-packages (from jupyterthemes) (5.7.8)\n",
            "Requirement already satisfied: lesscpy>=0.11.2 in /usr/local/lib/python3.6/dist-packages (from jupyterthemes) (0.13.0)\n",
            "Requirement already satisfied: numpy>=1.8.2 in /usr/local/lib/python3.6/dist-packages (from scipy>=0.9->scikit-plot) (1.16.3)\n",
            "Requirement already satisfied: python-dateutil>=2.1 in /usr/local/lib/python3.6/dist-packages (from matplotlib>=1.4.0->scikit-plot) (2.5.3)\n",
            "Requirement already satisfied: kiwisolver>=1.0.1 in /usr/local/lib/python3.6/dist-packages (from matplotlib>=1.4.0->scikit-plot) (1.1.0)\n",
            "Requirement already satisfied: pyparsing!=2.0.4,!=2.1.2,!=2.1.6,>=2.0.1 in /usr/local/lib/python3.6/dist-packages (from matplotlib>=1.4.0->scikit-plot) (2.4.0)\n",
            "Requirement already satisfied: cycler>=0.10 in /usr/local/lib/python3.6/dist-packages (from matplotlib>=1.4.0->scikit-plot) (0.10.0)\n",
            "Requirement already satisfied: prompt-toolkit<2.0.0,>=1.0.4 in /usr/local/lib/python3.6/dist-packages (from ipython>=5.4.1->jupyterthemes) (1.0.16)\n",
            "Requirement already satisfied: setuptools>=18.5 in /usr/local/lib/python3.6/dist-packages (from ipython>=5.4.1->jupyterthemes) (41.0.1)\n",
            "Requirement already satisfied: pexpect; sys_platform != \"win32\" in /usr/local/lib/python3.6/dist-packages (from ipython>=5.4.1->jupyterthemes) (4.7.0)\n",
            "Requirement already satisfied: pickleshare in /usr/local/lib/python3.6/dist-packages (from ipython>=5.4.1->jupyterthemes) (0.7.5)\n",
            "Requirement already satisfied: traitlets>=4.2 in /usr/local/lib/python3.6/dist-packages (from ipython>=5.4.1->jupyterthemes) (4.3.2)\n",
            "Requirement already satisfied: simplegeneric>0.8 in /usr/local/lib/python3.6/dist-packages (from ipython>=5.4.1->jupyterthemes) (0.8.1)\n",
            "Requirement already satisfied: decorator in /usr/local/lib/python3.6/dist-packages (from ipython>=5.4.1->jupyterthemes) (4.4.0)\n",
            "Requirement already satisfied: pygments in /usr/local/lib/python3.6/dist-packages (from ipython>=5.4.1->jupyterthemes) (2.1.3)\n",
            "Requirement already satisfied: ipython-genutils in /usr/local/lib/python3.6/dist-packages (from notebook>=5.6.0->jupyterthemes) (0.2.0)\n",
            "Requirement already satisfied: terminado>=0.8.1 in /usr/local/lib/python3.6/dist-packages (from notebook>=5.6.0->jupyterthemes) (0.8.2)\n",
            "Requirement already satisfied: Send2Trash in /usr/local/lib/python3.6/dist-packages (from notebook>=5.6.0->jupyterthemes) (1.5.0)\n",
            "Requirement already satisfied: nbconvert in /usr/local/lib/python3.6/dist-packages (from notebook>=5.6.0->jupyterthemes) (5.5.0)\n",
            "Requirement already satisfied: pyzmq>=17 in /usr/local/lib/python3.6/dist-packages (from notebook>=5.6.0->jupyterthemes) (17.0.0)\n",
            "Requirement already satisfied: ipykernel in /usr/local/lib/python3.6/dist-packages (from notebook>=5.6.0->jupyterthemes) (4.6.1)\n",
            "Requirement already satisfied: prometheus-client in /usr/local/lib/python3.6/dist-packages (from notebook>=5.6.0->jupyterthemes) (0.6.0)\n",
            "Requirement already satisfied: nbformat in /usr/local/lib/python3.6/dist-packages (from notebook>=5.6.0->jupyterthemes) (4.4.0)\n",
            "Requirement already satisfied: jinja2 in /usr/local/lib/python3.6/dist-packages (from notebook>=5.6.0->jupyterthemes) (2.10.1)\n",
            "Requirement already satisfied: tornado<7,>=4.1 in /usr/local/lib/python3.6/dist-packages (from notebook>=5.6.0->jupyterthemes) (4.5.3)\n",
            "Requirement already satisfied: jupyter-client>=5.2.0 in /usr/local/lib/python3.6/dist-packages (from notebook>=5.6.0->jupyterthemes) (5.2.4)\n",
            "Requirement already satisfied: ply in /usr/local/lib/python3.6/dist-packages (from lesscpy>=0.11.2->jupyterthemes) (3.11)\n",
            "Requirement already satisfied: six in /usr/local/lib/python3.6/dist-packages (from lesscpy>=0.11.2->jupyterthemes) (1.12.0)\n",
            "Requirement already satisfied: wcwidth in /usr/local/lib/python3.6/dist-packages (from prompt-toolkit<2.0.0,>=1.0.4->ipython>=5.4.1->jupyterthemes) (0.1.7)\n",
            "Requirement already satisfied: ptyprocess>=0.5 in /usr/local/lib/python3.6/dist-packages (from pexpect; sys_platform != \"win32\"->ipython>=5.4.1->jupyterthemes) (0.6.0)\n",
            "Requirement already satisfied: entrypoints>=0.2.2 in /usr/local/lib/python3.6/dist-packages (from nbconvert->notebook>=5.6.0->jupyterthemes) (0.3)\n",
            "Requirement already satisfied: defusedxml in /usr/local/lib/python3.6/dist-packages (from nbconvert->notebook>=5.6.0->jupyterthemes) (0.6.0)\n",
            "Requirement already satisfied: bleach in /usr/local/lib/python3.6/dist-packages (from nbconvert->notebook>=5.6.0->jupyterthemes) (3.1.0)\n",
            "Requirement already satisfied: testpath in /usr/local/lib/python3.6/dist-packages (from nbconvert->notebook>=5.6.0->jupyterthemes) (0.4.2)\n",
            "Requirement already satisfied: pandocfilters>=1.4.1 in /usr/local/lib/python3.6/dist-packages (from nbconvert->notebook>=5.6.0->jupyterthemes) (1.4.2)\n",
            "Requirement already satisfied: mistune>=0.8.1 in /usr/local/lib/python3.6/dist-packages (from nbconvert->notebook>=5.6.0->jupyterthemes) (0.8.4)\n",
            "Requirement already satisfied: jsonschema!=2.5.0,>=2.4 in /usr/local/lib/python3.6/dist-packages (from nbformat->notebook>=5.6.0->jupyterthemes) (2.6.0)\n",
            "Requirement already satisfied: MarkupSafe>=0.23 in /usr/local/lib/python3.6/dist-packages (from jinja2->notebook>=5.6.0->jupyterthemes) (1.1.1)\n",
            "Requirement already satisfied: webencodings in /usr/local/lib/python3.6/dist-packages (from bleach->nbconvert->notebook>=5.6.0->jupyterthemes) (0.5.1)\n"
          ],
          "name": "stdout"
        }
      ]
    },
    {
      "metadata": {
        "id": "nPcAwKZGvyzh",
        "colab_type": "code",
        "colab": {}
      },
      "cell_type": "code",
      "source": [
        "from scikitplot.metrics import plot_roc, plot_confusion_matrix \n",
        "from jupyterthemes import jtplot \n",
        "jtplot.style(theme=\"monokai\")"
      ],
      "execution_count": 0,
      "outputs": []
    },
    {
      "metadata": {
        "id": "gFAupP68wqNJ",
        "colab_type": "code",
        "colab": {}
      },
      "cell_type": "code",
      "source": [
        "neuralFeatures = neuralFeatures.loc[0:119999] \n",
        "classValues = classValues.loc[0:119999] \n",
        "neuralFeatures.drop(list(neuralFeatures.columns)[0], axis=1, inplace=True)\n",
        "classValues.drop(list(classValues.columns)[0], axis=1, inplace=True) "
      ],
      "execution_count": 0,
      "outputs": []
    },
    {
      "metadata": {
        "id": "W2eYhwThzB_E",
        "colab_type": "code",
        "colab": {}
      },
      "cell_type": "code",
      "source": [
        "scaledFeatures = scale(neuralFeatures, axis=0) \n",
        "Xtrain, Xtest, Ytrain, Ytest = train_test_split(scaledFeatures, classValues, test_size=0.20, random_state=100)"
      ],
      "execution_count": 0,
      "outputs": []
    },
    {
      "metadata": {
        "id": "W4kKu1-e0quw",
        "colab_type": "code",
        "colab": {
          "base_uri": "https://localhost:8080/",
          "height": 394
        },
        "outputId": "6ff5ca72-2d5f-43a7-8df9-47d56e3c883a"
      },
      "cell_type": "code",
      "source": [
        "logReg_rsearch = noSGDLogisticRegression(Xtrain, Ytrain, cv=5, n=1)  \n",
        "print(logReg_rsearch) "
      ],
      "execution_count": 13,
      "outputs": [
        {
          "output_type": "stream",
          "text": [
            "[LibLinear][LibLinear][LibLinear][LibLinear][LibLinear][LibLinear]{'mean_fit_time': array([81.37323232]), 'std_fit_time': array([13.64445298]), 'mean_score_time': array([0.014853]), 'std_score_time': array([0.00506858]), 'param_penalty': masked_array(data=['l2'],\n",
            "             mask=[False],\n",
            "       fill_value='?',\n",
            "            dtype=object), 'param_intercept_scaling': masked_array(data=[2],\n",
            "             mask=[False],\n",
            "       fill_value='?',\n",
            "            dtype=object), 'param_fit_intercept': masked_array(data=[False],\n",
            "             mask=[False],\n",
            "       fill_value='?',\n",
            "            dtype=object), 'params': [{'penalty': 'l2', 'intercept_scaling': 2, 'fit_intercept': False}], 'split0_test_score': array([0.76792875]), 'split1_test_score': array([0.76480392]), 'split2_test_score': array([0.75317708]), 'split3_test_score': array([0.76639408]), 'split4_test_score': array([0.76425856]), 'mean_test_score': array([0.7633125]), 'std_test_score': array([0.00522786]), 'rank_test_score': array([1], dtype=int32), 'split0_train_score': array([0.76917668]), 'split1_train_score': array([0.76519226]), 'split2_train_score': array([0.76229167]), 'split3_train_score': array([0.76614888]), 'split4_train_score': array([0.76216456]), 'mean_train_score': array([0.76499481]), 'std_train_score': array([0.00261443])}\n",
            "Best Cross-Validated Accuracy: 76.33%\n",
            "Best Model Parameters: {'penalty': 'l2', 'intercept_scaling': 2, 'fit_intercept': False}\n",
            "RandomizedSearchCV(cv=5, error_score='raise-deprecating',\n",
            "          estimator=LogisticRegression(C=1.0, class_weight=None, dual=False, fit_intercept=True,\n",
            "          intercept_scaling=1, max_iter=100, multi_class='warn',\n",
            "          n_jobs=None, penalty='l2', random_state=100, solver='warn',\n",
            "          tol=0.0001, verbose=True, warm_start=False),\n",
            "          fit_params=None, iid='warn', n_iter=1, n_jobs=None,\n",
            "          param_distributions={'penalty': ['l1', 'l2'], 'fit_intercept': [False, True], 'intercept_scaling': [1, 1.25, 1.5, 1.75, 2]},\n",
            "          pre_dispatch='2*n_jobs', random_state=None, refit=True,\n",
            "          return_train_score='warn', scoring=None, verbose=0)\n"
          ],
          "name": "stdout"
        }
      ]
    },
    {
      "metadata": {
        "id": "bkV_aFEYBtLT",
        "colab_type": "code",
        "colab": {}
      },
      "cell_type": "code",
      "source": [
        ""
      ],
      "execution_count": 0,
      "outputs": []
    }
  ]
}